{
 "cells": [
  {
   "cell_type": "markdown",
   "metadata": {},
   "source": [
    "### 문제1.\n",
    "1을 육지로 0을 물로 가정한 2D 그리드 맵이 주어졌을때, 섬의 개수를 계산하라."
   ]
  },
  {
   "cell_type": "code",
   "execution_count": 9,
   "metadata": {},
   "outputs": [],
   "source": [
    "test =[[1,1,1,1,0],\n",
    " [1,1,0,1,0],\n",
    " [1,1,0,0,0],\n",
    " [0,0,0,0,0]]"
   ]
  },
  {
   "cell_type": "code",
   "execution_count": 2,
   "metadata": {},
   "outputs": [
    {
     "data": {
      "text/plain": [
       "True"
      ]
     },
     "execution_count": 2,
     "metadata": {},
     "output_type": "execute_result"
    }
   ],
   "source": [
    "False or False or True"
   ]
  },
  {
   "cell_type": "code",
   "execution_count": 10,
   "metadata": {},
   "outputs": [],
   "source": [
    "def numisland(k):    \n",
    "    def dfs(s, d):\n",
    "        if (k[s][d] !=1) or s <0 or d<0 or s>= len(k) or d >= len(k[0]):\n",
    "            return\n",
    "        k[s][d] =0\n",
    "        dfs(s-1, d)\n",
    "        dfs(s+1, d)\n",
    "        dfs(s, d-1)\n",
    "        dfs(s, d+1)\n",
    "\n",
    "    count =0\n",
    "    for i in range(len(k)):\n",
    "\n",
    "        for j in range(len(k[0])):\n",
    "\n",
    "            if k[i][j] == 1:\n",
    "                dfs(i, j)\n",
    "                count +=1\n",
    "\n",
    "    return count"
   ]
  },
  {
   "cell_type": "code",
   "execution_count": 11,
   "metadata": {},
   "outputs": [
    {
     "data": {
      "text/plain": [
       "1"
      ]
     },
     "execution_count": 11,
     "metadata": {},
     "output_type": "execute_result"
    }
   ],
   "source": [
    "numisland(test)"
   ]
  },
  {
   "cell_type": "markdown",
   "metadata": {},
   "source": [
    "### 문제2. \n",
    "2에서 9까지 숫자가 주어졌을 때 전화 번호로 조합 가능한 모든 문자를 출력하라."
   ]
  },
  {
   "cell_type": "code",
   "execution_count": null,
   "metadata": {},
   "outputs": [],
   "source": [
    "# 입력 2\n",
    "# 출력 ['ad', 'ae', 'af', 'bd', 'be', 'bf', 'cd', 'ce', 'cf']"
   ]
  },
  {
   "cell_type": "code",
   "execution_count": 83,
   "metadata": {},
   "outputs": [],
   "source": [
    "def all_comb(nums):    \n",
    "    ls =[]\n",
    "\n",
    "    def dfs(len_check, chars):\n",
    "        if len(chars) == len(nums):\n",
    "            ls.append(chars)\n",
    "            return\n",
    "        \n",
    "        for i in range(len_check, len(nums)):\n",
    "            print(i ,len_check)\n",
    "            for char in dic[nums[i]]:\n",
    "                #print(i, chars,'i')\n",
    "                #print(len_check, char,'len_check')\n",
    "                dfs(i+1, chars+char)\n",
    "        \n",
    "    if not nums:\n",
    "        return []\n",
    "\n",
    "    dic = {'2':'abc', '3':'def', '4':'ghi', '5':'jkl', '6':'mno', '7':'pqrs', '8':'tuv', '9':'wxyz'}   \n",
    "    dfs(0, '')\n",
    "    \n",
    "    return ls"
   ]
  },
  {
   "cell_type": "code",
   "execution_count": 84,
   "metadata": {},
   "outputs": [
    {
     "name": "stdout",
     "output_type": "stream",
     "text": [
      "0 0\n",
      "1 1\n",
      "1 1\n",
      "1 1\n",
      "1 0\n"
     ]
    },
    {
     "data": {
      "text/plain": [
       "['ad', 'ae', 'af', 'bd', 'be', 'bf', 'cd', 'ce', 'cf']"
      ]
     },
     "execution_count": 84,
     "metadata": {},
     "output_type": "execute_result"
    }
   ],
   "source": [
    "all_comb('23')"
   ]
  },
  {
   "cell_type": "code",
   "execution_count": null,
   "metadata": {},
   "outputs": [],
   "source": [
    "['1', '2', '3']"
   ]
  },
  {
   "cell_type": "code",
   "execution_count": 86,
   "metadata": {},
   "outputs": [],
   "source": [
    "def permutate(nums):    \n",
    "    result = []\n",
    "    prev_element = []\n",
    "\n",
    "\n",
    "    def dfs(elements):\n",
    "        if len(elements) == 0:\n",
    "            result.append(prev_element[:])\n",
    "\n",
    "        for e in elements:   \n",
    "            next_element = elements[:]\n",
    "            next_element.remove(e)\n",
    "\n",
    "            prev_element.append(e)\n",
    "            dfs(next_element)\n",
    "            prev_element.pop()\n",
    "\n",
    "    dfs(nums)\n",
    "    return result\n",
    "    \n",
    "    "
   ]
  },
  {
   "cell_type": "code",
   "execution_count": 88,
   "metadata": {},
   "outputs": [
    {
     "data": {
      "text/plain": [
       "[['1', '2', '3', '4'],\n",
       " ['1', '2', '4', '3'],\n",
       " ['1', '3', '2', '4'],\n",
       " ['1', '3', '4', '2'],\n",
       " ['1', '4', '2', '3'],\n",
       " ['1', '4', '3', '2'],\n",
       " ['2', '1', '3', '4'],\n",
       " ['2', '1', '4', '3'],\n",
       " ['2', '3', '1', '4'],\n",
       " ['2', '3', '4', '1'],\n",
       " ['2', '4', '1', '3'],\n",
       " ['2', '4', '3', '1'],\n",
       " ['3', '1', '2', '4'],\n",
       " ['3', '1', '4', '2'],\n",
       " ['3', '2', '1', '4'],\n",
       " ['3', '2', '4', '1'],\n",
       " ['3', '4', '1', '2'],\n",
       " ['3', '4', '2', '1'],\n",
       " ['4', '1', '2', '3'],\n",
       " ['4', '1', '3', '2'],\n",
       " ['4', '2', '1', '3'],\n",
       " ['4', '2', '3', '1'],\n",
       " ['4', '3', '1', '2'],\n",
       " ['4', '3', '2', '1']]"
      ]
     },
     "execution_count": 88,
     "metadata": {},
     "output_type": "execute_result"
    }
   ],
   "source": [
    "permutate(['1', '2', '3','4'])"
   ]
  },
  {
   "cell_type": "markdown",
   "metadata": {},
   "source": [
    "### 조합\n",
    "전체 수 n을 입력받아 k개의 조합을 리턴하라"
   ]
  },
  {
   "cell_type": "code",
   "execution_count": 2,
   "metadata": {},
   "outputs": [],
   "source": [
    "n = 4 \n",
    "k = 2 "
   ]
  },
  {
   "cell_type": "code",
   "execution_count": null,
   "metadata": {},
   "outputs": [],
   "source": [
    "['1', '2', '3']"
   ]
  },
  {
   "cell_type": "code",
   "execution_count": null,
   "metadata": {},
   "outputs": [],
   "source": [
    "[\n",
    "    [2,4],\n",
    "    [3,4],\n",
    "    [2,3],\n",
    "    [1,2],\n",
    "    [1,3],\n",
    "    [1,4],\n",
    "]"
   ]
  },
  {
   "cell_type": "code",
   "execution_count": 3,
   "metadata": {},
   "outputs": [],
   "source": [
    "def combine(n, k):\n",
    "    result = []\n",
    "    def dfs(elements, start, k):\n",
    "        if k == 0:\n",
    "            result.append(elements[:])\n",
    "\n",
    "        for i in range(start, n+1):\n",
    "            elements.append(i)\n",
    "            dfs(elements, i+1, k-1)\n",
    "            elements.pop()\n",
    "\n",
    "    dfs([ ], 1, k)\n",
    "    return result"
   ]
  },
  {
   "cell_type": "code",
   "execution_count": 4,
   "metadata": {},
   "outputs": [
    {
     "data": {
      "text/plain": [
       "[[1, 2], [1, 3], [1, 4], [2, 3], [2, 4], [3, 4]]"
      ]
     },
     "execution_count": 4,
     "metadata": {},
     "output_type": "execute_result"
    }
   ],
   "source": [
    "combine(4, 2)"
   ]
  },
  {
   "cell_type": "markdown",
   "metadata": {},
   "source": [
    "### 문제 5.\n",
    "숫자 집합르 조합하여 합이 target이 되는 원소를 나열하라. 각 원소는 중복으로 나열 가능하다."
   ]
  },
  {
   "cell_type": "code",
   "execution_count": 22,
   "metadata": {},
   "outputs": [],
   "source": [
    "def cnadsum(nums, k):    \n",
    "    result = []\n",
    "    def dfs(elements, nums, target):\n",
    "        if np.sum(elements) > target:\n",
    "            return\n",
    "        \n",
    "        if np.sum(elements) == target:\n",
    "            result.append(elements[:])\n",
    "            return\n",
    "            \n",
    "\n",
    "        for i in nums:\n",
    "            elements.append(i)\n",
    "            dfs(elements, nums, target)\n",
    "            elements.pop()\n",
    "\n",
    "    dfs([ ], nums, k)\n",
    "    return result"
   ]
  },
  {
   "cell_type": "code",
   "execution_count": 23,
   "metadata": {},
   "outputs": [
    {
     "data": {
      "text/plain": [
       "[[2, 2, 3], [2, 3, 2], [3, 2, 2], [7]]"
      ]
     },
     "execution_count": 23,
     "metadata": {},
     "output_type": "execute_result"
    }
   ],
   "source": [
    "cnadsum([2,3,6,7], 7)"
   ]
  },
  {
   "cell_type": "code",
   "execution_count": 25,
   "metadata": {},
   "outputs": [
    {
     "data": {
      "text/plain": [
       "[[2, 2, 2, 2], [2, 3, 3], [3, 2, 3], [3, 3, 2], [3, 5], [5, 3]]"
      ]
     },
     "execution_count": 25,
     "metadata": {},
     "output_type": "execute_result"
    }
   ],
   "source": [
    "cnadsum([2,3,5], 8)"
   ]
  },
  {
   "cell_type": "code",
   "execution_count": 26,
   "metadata": {},
   "outputs": [],
   "source": [
    "def combinationSum(candidates, target):\n",
    "    result = []\n",
    "    \n",
    "    def dfs(csum, index, path):\n",
    "        \n",
    "        if csum < 0:\n",
    "            return\n",
    "        if csum == 0:\n",
    "            result.append(path)\n",
    "            return\n",
    "        \n",
    "        for i in range(index, len(candidates)):\n",
    "            dfs(csum- candidates[i], i , path+[candidates[i]])\n",
    "            \n",
    "    dfs(target, 0, [])\n",
    "    return result"
   ]
  },
  {
   "cell_type": "code",
   "execution_count": 27,
   "metadata": {},
   "outputs": [
    {
     "data": {
      "text/plain": [
       "[[2, 2, 2, 2], [2, 3, 3], [3, 5]]"
      ]
     },
     "execution_count": 27,
     "metadata": {},
     "output_type": "execute_result"
    }
   ],
   "source": [
    "combinationSum([2,3,5], 8)"
   ]
  },
  {
   "cell_type": "markdown",
   "metadata": {},
   "source": [
    "### 부분집합\n",
    "- 모든 부분 집합을 리턴하라"
   ]
  },
  {
   "cell_type": "code",
   "execution_count": 46,
   "metadata": {},
   "outputs": [],
   "source": [
    "nums = [1,2,3]"
   ]
  },
  {
   "cell_type": "code",
   "execution_count": 47,
   "metadata": {},
   "outputs": [],
   "source": [
    "def all_subset(nums):\n",
    "    result = []   \n",
    "    def dfs(index, path):\n",
    "        result.append(path)\n",
    "        \n",
    "        for i in range(index,len(nums)):\n",
    "            dfs(i+1, path+[nums[i]])\n",
    "    \n",
    "    dfs(0, [])\n",
    "    return result"
   ]
  },
  {
   "cell_type": "code",
   "execution_count": 48,
   "metadata": {},
   "outputs": [
    {
     "data": {
      "text/plain": [
       "[[], [1], [1, 2], [1, 2, 3], [1, 3], [2], [2, 3], [3]]"
      ]
     },
     "execution_count": 48,
     "metadata": {},
     "output_type": "execute_result"
    }
   ],
   "source": [
    "all_subset(nums)"
   ]
  },
  {
   "cell_type": "code",
   "execution_count": null,
   "metadata": {},
   "outputs": [],
   "source": []
  }
 ],
 "metadata": {
  "kernelspec": {
   "display_name": "Python 3",
   "language": "python",
   "name": "python3"
  },
  "language_info": {
   "codemirror_mode": {
    "name": "ipython",
    "version": 3
   },
   "file_extension": ".py",
   "mimetype": "text/x-python",
   "name": "python",
   "nbconvert_exporter": "python",
   "pygments_lexer": "ipython3",
   "version": "3.7.4"
  }
 },
 "nbformat": 4,
 "nbformat_minor": 2
}
