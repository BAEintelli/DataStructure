{
 "cells": [
  {
   "cell_type": "markdown",
   "metadata": {},
   "source": [
    "### 문제1.\n",
    "1을 육지로 0을 물로 가정한 2D 그리드 맵이 주어졌을때, 섬의 개수를 계산하라."
   ]
  },
  {
   "cell_type": "code",
   "execution_count": 9,
   "metadata": {},
   "outputs": [],
   "source": [
    "test =[[1,1,1,1,0],\n",
    " [1,1,0,1,0],\n",
    " [1,1,0,0,0],\n",
    " [0,0,0,0,0]]"
   ]
  },
  {
   "cell_type": "code",
   "execution_count": 2,
   "metadata": {},
   "outputs": [
    {
     "data": {
      "text/plain": [
       "True"
      ]
     },
     "execution_count": 2,
     "metadata": {},
     "output_type": "execute_result"
    }
   ],
   "source": [
    "False or False or True"
   ]
  },
  {
   "cell_type": "code",
   "execution_count": 10,
   "metadata": {},
   "outputs": [],
   "source": [
    "def numisland(k):    \n",
    "    def dfs(s, d):\n",
    "        if (k[s][d] !=1) or s <0 or d<0 or s>= len(k) or d >= len(k[0]):\n",
    "            return\n",
    "        k[s][d] =0\n",
    "        dfs(s-1, d)\n",
    "        dfs(s+1, d)\n",
    "        dfs(s, d-1)\n",
    "        dfs(s, d+1)\n",
    "\n",
    "    count =0\n",
    "    for i in range(len(k)):\n",
    "\n",
    "        for j in range(len(k[0])):\n",
    "\n",
    "            if k[i][j] == 1:\n",
    "                dfs(i, j)\n",
    "                count +=1\n",
    "\n",
    "    return count"
   ]
  },
  {
   "cell_type": "code",
   "execution_count": 11,
   "metadata": {},
   "outputs": [
    {
     "data": {
      "text/plain": [
       "1"
      ]
     },
     "execution_count": 11,
     "metadata": {},
     "output_type": "execute_result"
    }
   ],
   "source": [
    "numisland(test)"
   ]
  },
  {
   "cell_type": "markdown",
   "metadata": {},
   "source": [
    "### 문제2. \n",
    "2에서 9까지 숫자가 주어졌을 때 전화 번호로 조합 가능한 모든 문자를 출력하라."
   ]
  },
  {
   "cell_type": "code",
   "execution_count": null,
   "metadata": {},
   "outputs": [],
   "source": [
    "# 입력 2\n",
    "# 출력 ['ad', 'ae', 'af', 'bd', 'be', 'bf', 'cd', 'ce', 'cf']"
   ]
  },
  {
   "cell_type": "code",
   "execution_count": 70,
   "metadata": {},
   "outputs": [],
   "source": [
    "def all_comb(nums):    \n",
    "    ls =[]\n",
    "\n",
    "    def dfs(len_check, chars):\n",
    "        if len(chars) == len(nums):\n",
    "            ls.append(chars)\n",
    "            return\n",
    "        \n",
    "        for i in range(len_check, len(nums)):\n",
    "            for char in dic[nums[i]]:\n",
    "                print(i, 'i')\n",
    "                print(len_check, char,'len_check')\n",
    "                dfs(i+1, chars+char)\n",
    "        \n",
    "    if not nums:\n",
    "        return []\n",
    "\n",
    "    dic = {'2':'abc', '3':'def', '4':'ghi', '5':'jkl', '6':'mno', '7':'pqrs', '8':'tuv', '9':'wxyz'}   \n",
    "    dfs(0, '')\n",
    "    \n",
    "    return ls"
   ]
  },
  {
   "cell_type": "code",
   "execution_count": 71,
   "metadata": {},
   "outputs": [
    {
     "name": "stdout",
     "output_type": "stream",
     "text": [
      "0 i\n",
      "0 a len_check\n",
      "1 i\n",
      "1 d len_check\n",
      "1 i\n",
      "1 e len_check\n",
      "1 i\n",
      "1 f len_check\n",
      "0 i\n",
      "0 b len_check\n",
      "1 i\n",
      "1 d len_check\n",
      "1 i\n",
      "1 e len_check\n",
      "1 i\n",
      "1 f len_check\n",
      "0 i\n",
      "0 c len_check\n",
      "1 i\n",
      "1 d len_check\n",
      "1 i\n",
      "1 e len_check\n",
      "1 i\n",
      "1 f len_check\n",
      "1 i\n",
      "0 d len_check\n",
      "1 i\n",
      "0 e len_check\n",
      "1 i\n",
      "0 f len_check\n"
     ]
    },
    {
     "data": {
      "text/plain": [
       "['ad', 'ae', 'af', 'bd', 'be', 'bf', 'cd', 'ce', 'cf']"
      ]
     },
     "execution_count": 71,
     "metadata": {},
     "output_type": "execute_result"
    }
   ],
   "source": [
    "all_comb('23')"
   ]
  },
  {
   "cell_type": "code",
   "execution_count": null,
   "metadata": {},
   "outputs": [],
   "source": []
  }
 ],
 "metadata": {
  "kernelspec": {
   "display_name": "Python 3",
   "language": "python",
   "name": "python3"
  },
  "language_info": {
   "codemirror_mode": {
    "name": "ipython",
    "version": 3
   },
   "file_extension": ".py",
   "mimetype": "text/x-python",
   "name": "python",
   "nbconvert_exporter": "python",
   "pygments_lexer": "ipython3",
   "version": "3.7.4"
  }
 },
 "nbformat": 4,
 "nbformat_minor": 2
}
