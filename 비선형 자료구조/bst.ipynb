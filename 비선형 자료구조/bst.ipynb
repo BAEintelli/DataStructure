{
 "cells": [
  {
   "cell_type": "code",
   "execution_count": 1,
   "metadata": {},
   "outputs": [],
   "source": [
    "class Tree:\n",
    "    def __init__(self, x):\n",
    "        self.val = x\n",
    "        self.right = None\n",
    "        self.left =None\n",
    "        \n",
    "\n",
    "        \n",
    "        "
   ]
  },
  {
   "cell_type": "code",
   "execution_count": 9,
   "metadata": {},
   "outputs": [],
   "source": [
    "def makebst(arrays):\n",
    "    if len(arrays) == 0:\n",
    "        return None\n",
    "    \n",
    "    mid = len(arrays)//2\n",
    "    t = Tree(arrays[mid])\n",
    "    t.left = makebst(arrays[:mid])\n",
    "    t.right = makebst(arrays[mid+1:])\n",
    "    \n",
    "    return t"
   ]
  },
  {
   "cell_type": "code",
   "execution_count": 10,
   "metadata": {},
   "outputs": [],
   "source": [
    "tree = makebst([-10, -3, 0, 5, 9])"
   ]
  },
  {
   "cell_type": "code",
   "execution_count": 13,
   "metadata": {},
   "outputs": [
    {
     "data": {
      "text/plain": [
       "-3"
      ]
     },
     "execution_count": 13,
     "metadata": {},
     "output_type": "execute_result"
    }
   ],
   "source": [
    "tree.left.val"
   ]
  },
  {
   "cell_type": "code",
   "execution_count": 15,
   "metadata": {},
   "outputs": [],
   "source": [
    "from collections import deque"
   ]
  },
  {
   "cell_type": "code",
   "execution_count": 17,
   "metadata": {},
   "outputs": [],
   "source": [
    "class Tree:\n",
    "    def __init__(self, x):\n",
    "        self.val = x\n",
    "        self.right = None\n",
    "        self.left =None\n",
    "        \n",
    "\n",
    "            \n",
    "            \n",
    "            "
   ]
  },
  {
   "cell_type": "code",
   "execution_count": 30,
   "metadata": {},
   "outputs": [],
   "source": [
    "def maketree(arrays):\n",
    "    node = Tree(arrays[0])\n",
    "    # 노드 후에 해야할것은\n",
    "    que = deque([node])\n",
    "    index = 1\n",
    "    while que:\n",
    "        root = que.popleft()\n",
    "        print(root.val, que, index)\n",
    "        if arrays[index] != None:\n",
    "            root.left = Tree(arrays[index])\n",
    "            que.append(root.left)\n",
    "        index +=1 \n",
    "        \n",
    "        if arrays[index] != None:\n",
    "            root.right = Tree(arrays[index])\n",
    "            que.append(root.right)\n",
    "        index +=1\n",
    "            \n",
    "    return  node"
   ]
  },
  {
   "cell_type": "code",
   "execution_count": 33,
   "metadata": {},
   "outputs": [
    {
     "name": "stdout",
     "output_type": "stream",
     "text": [
      "4 deque([]) 1\n",
      "1 deque([<__main__.Tree object at 0x000001AF9E2EFFC8>]) 3\n",
      "6 deque([<__main__.Tree object at 0x000001AF9E2EF608>, <__main__.Tree object at 0x000001AF9E2EF448>]) 5\n",
      "0 deque([<__main__.Tree object at 0x000001AF9E2EF448>, <__main__.Tree object at 0x000001AF9E2EFE48>, <__main__.Tree object at 0x000001AF9D333808>]) 7\n",
      "2 deque([<__main__.Tree object at 0x000001AF9E2EFE48>, <__main__.Tree object at 0x000001AF9D333808>]) 9\n",
      "5 deque([<__main__.Tree object at 0x000001AF9D333808>, <__main__.Tree object at 0x000001AF9E2E3308>]) 11\n",
      "7 deque([<__main__.Tree object at 0x000001AF9E2E3308>]) 13\n",
      "3 deque([<__main__.Tree object at 0x000001AF9E2E3988>]) 15\n",
      "8 deque([]) 17\n"
     ]
    }
   ],
   "source": [
    "t = maketree([4,1,6,0,2,5,7,None, None,None,3,None,None,None,8,None,None,None,None])"
   ]
  },
  {
   "cell_type": "code",
   "execution_count": 34,
   "metadata": {},
   "outputs": [],
   "source": [
    "result = []\n",
    "right_sum = 0\n",
    "def inorderbst(t):\n",
    "    if t.right:\n",
    "        inorderbst(t.right)\n",
    "        \n",
    "    result.append(right_sum+t.val)\n",
    "    if t.left: \n",
    "        inorderbst(t.left)"
   ]
  },
  {
   "cell_type": "code",
   "execution_count": 38,
   "metadata": {},
   "outputs": [],
   "source": [
    "inorderbst(t)"
   ]
  },
  {
   "cell_type": "code",
   "execution_count": 39,
   "metadata": {},
   "outputs": [
    {
     "data": {
      "text/plain": [
       "[8, 7, 6, 5, 4, 3, 2, 1, 0]"
      ]
     },
     "execution_count": 39,
     "metadata": {},
     "output_type": "execute_result"
    }
   ],
   "source": [
    "result"
   ]
  },
  {
   "cell_type": "code",
   "execution_count": null,
   "metadata": {},
   "outputs": [],
   "source": []
  }
 ],
 "metadata": {
  "kernelspec": {
   "display_name": "Python 3",
   "language": "python",
   "name": "python3"
  },
  "language_info": {
   "codemirror_mode": {
    "name": "ipython",
    "version": 3
   },
   "file_extension": ".py",
   "mimetype": "text/x-python",
   "name": "python",
   "nbconvert_exporter": "python",
   "pygments_lexer": "ipython3",
   "version": "3.7.4"
  }
 },
 "nbformat": 4,
 "nbformat_minor": 2
}
