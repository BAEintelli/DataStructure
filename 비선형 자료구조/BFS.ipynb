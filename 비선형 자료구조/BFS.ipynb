{
 "cells": [
  {
   "cell_type": "markdown",
   "metadata": {},
   "source": [
    "### 문제1. 네트워크 딜레이 타임\n",
    "- K부터 출발해 모든 노드가 신호를 받을 수 있는 시간을 계산하라. 불가능할 경우 -1을 리턴한다. 입력값(u,v,w)는 각각 출발지, 도착지, 소요 시간으로 구성되며, 전체 노드의 개수는 N으로 입력 받는다."
   ]
  },
  {
   "cell_type": "code",
   "execution_count": 2,
   "metadata": {},
   "outputs": [],
   "source": [
    "times = [[2,1,1],[2,3,1],[3,4,1]]\n",
    "N = 4\n",
    "K =2"
   ]
  },
  {
   "cell_type": "code",
   "execution_count": 9,
   "metadata": {},
   "outputs": [],
   "source": [
    "import collections\n",
    "def network(times, N, K):\n",
    "    graph = collections.defaultdict(list)\n",
    "    for a,b,c in times:\n",
    "        graph[a].append((b,c))\n",
    "\n",
    "\n",
    "    Q = [(0, K)]\n",
    "    dist = collections.defaultdict(int)\n",
    "    while Q:\n",
    "        time, node = heapq.heappop(Q)\n",
    "        if node not in dist:\n",
    "            dist[node] = time\n",
    "            for v, w in grap[node]:\n",
    "                alt = time + w\n",
    "                heapq.heappush(Q, (alt, v))\n",
    "\n",
    "    if len(dist) == N:\n",
    "        return max(dist.values())\n",
    "\n",
    "    return -1\n",
    "    \n",
    "    "
   ]
  },
  {
   "cell_type": "code",
   "execution_count": 7,
   "metadata": {},
   "outputs": [
    {
     "data": {
      "text/plain": [
       "defaultdict(list, {2: [(1, 1), (3, 1)], 3: [(4, 1)]})"
      ]
     },
     "execution_count": 7,
     "metadata": {},
     "output_type": "execute_result"
    }
   ],
   "source": [
    "graph"
   ]
  },
  {
   "cell_type": "code",
   "execution_count": null,
   "metadata": {},
   "outputs": [],
   "source": []
  },
  {
   "cell_type": "code",
   "execution_count": null,
   "metadata": {},
   "outputs": [],
   "source": [
    "def network(times, N, K):\n",
    "    graph = collections.defaultdict(list)\n",
    "    for a, b, c in times:\n",
    "        graph[a].append((b,c))\n",
    "\n",
    "    Q = [(0,K)]\n",
    "    dist = collections.defaultdict(int)\n",
    "    while Q:\n",
    "        time, node = heapq.pop(Q)\n",
    "        # b는 도착 c 는소요시간\n",
    "        if node not in dist:\n",
    "            dist[node] = time\n",
    "            for b, c in graph[node]:    \n",
    "                upt_time = time + c\n",
    "                heapq.push(Q, (upt_time, b))\n",
    "            \n",
    "    if len(dist) == N:\n",
    "        return max(dist.values())\n",
    "    \n",
    "    "
   ]
  },
  {
   "cell_type": "code",
   "execution_count": null,
   "metadata": {},
   "outputs": [],
   "source": [
    "def network(times, N, K):\n",
    "    graph = collections.defaultdict(list)\n",
    "    for a, b,c  in times:\n",
    "        graph[a].append((b,c))\n",
    "        \n",
    "    Q = [(0,K)]\n",
    "    node_dict = collections.defaultdict(int)\n",
    "    while Q:\n",
    "        time, node = heapq.pop(Q)\n",
    "        if node not in node_dict:\n",
    "            node_dict[node] = time\n",
    "            for arr, t  in graph[node] :\n",
    "                new_time = t+ time\n",
    "                heapq.push(Q, new_time)\n",
    "                \n",
    "            \n",
    "                "
   ]
  }
 ],
 "metadata": {
  "kernelspec": {
   "display_name": "Python 3",
   "language": "python",
   "name": "python3"
  },
  "language_info": {
   "codemirror_mode": {
    "name": "ipython",
    "version": 3
   },
   "file_extension": ".py",
   "mimetype": "text/x-python",
   "name": "python",
   "nbconvert_exporter": "python",
   "pygments_lexer": "ipython3",
   "version": "3.7.4"
  }
 },
 "nbformat": 4,
 "nbformat_minor": 2
}
