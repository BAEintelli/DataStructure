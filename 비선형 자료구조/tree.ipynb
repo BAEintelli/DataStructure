{
 "cells": [
  {
   "cell_type": "code",
   "execution_count": 1,
   "metadata": {},
   "outputs": [],
   "source": [
    "class Tree:\n",
    "    def __init__(self, x):\n",
    "        self.root = x\n",
    "        self.left = None\n",
    "        self.right =None"
   ]
  },
  {
   "cell_type": "code",
   "execution_count": 2,
   "metadata": {},
   "outputs": [],
   "source": [
    "t  =Tree(1)\n",
    "t.left = Tree(2)\n",
    "t.right = Tree(3)\n",
    "t.left.left =Tree(4)\n",
    "t.left.right = Tree(7)"
   ]
  },
  {
   "cell_type": "code",
   "execution_count": 30,
   "metadata": {},
   "outputs": [],
   "source": [
    "class Solution:\n",
    "    def __init__(self):\n",
    "        self.longest = 0\n",
    "    \n",
    "    def diameterofbinaraytree(self, root):       \n",
    "        def dfs(node):\n",
    "            if not node:\n",
    "                return -1\n",
    "            left =dfs(node.left)\n",
    "            right = dfs(node.right)\n",
    "\n",
    "            self.longest =  max(self.longest, left+right+2)\n",
    "\n",
    "\n",
    "            return max(left, right) + 1\n",
    "\n",
    "        dfs(root)\n",
    "        return self.longest"
   ]
  },
  {
   "cell_type": "code",
   "execution_count": 35,
   "metadata": {},
   "outputs": [],
   "source": [
    "s =Solution()"
   ]
  },
  {
   "cell_type": "code",
   "execution_count": 36,
   "metadata": {},
   "outputs": [
    {
     "data": {
      "text/plain": [
       "3"
      ]
     },
     "execution_count": 36,
     "metadata": {},
     "output_type": "execute_result"
    }
   ],
   "source": [
    "s.diameterofbinaraytree(t)"
   ]
  },
  {
   "cell_type": "markdown",
   "metadata": {},
   "source": [
    "### 가장 긴 도일 값의 경로"
   ]
  },
  {
   "cell_type": "code",
   "execution_count": 44,
   "metadata": {},
   "outputs": [],
   "source": [
    "class Tree:\n",
    "    def __init__(self, x):\n",
    "        self.val = x\n",
    "        self.left = None\n",
    "        self.right =None"
   ]
  },
  {
   "cell_type": "code",
   "execution_count": 45,
   "metadata": {},
   "outputs": [],
   "source": [
    "t=Tree(5)\n",
    "t.left = Tree(4)\n",
    "t.left.left = Tree(1)\n",
    "t.left.right = Tree(1)\n",
    "t.right = Tree(5)\n",
    "t.right.right = Tree(5)"
   ]
  },
  {
   "cell_type": "code",
   "execution_count": 46,
   "metadata": {},
   "outputs": [],
   "source": [
    "        def dfs(node):\n",
    "            if not node:\n",
    "                return -1\n",
    "            left =dfs(node.left)\n",
    "            right = dfs(node.right)"
   ]
  },
  {
   "cell_type": "code",
   "execution_count": 47,
   "metadata": {},
   "outputs": [],
   "source": [
    "class Solution:\n",
    "    result = 0\n",
    "    def longestUnivaluepath(self, root):\n",
    "        def dfs(node):\n",
    "            if not node:\n",
    "                return -1\n",
    "        \n",
    "            left = dfs(node.left)\n",
    "            right = dfs(node.right)\n",
    "\n",
    "            if node.left and node.left.val == node.val:\n",
    "                left +=1\n",
    "\n",
    "            else:\n",
    "                left = 0\n",
    "\n",
    "            if node.right and node.right.val == node.val:\n",
    "                right += 1\n",
    "\n",
    "            else:\n",
    "                right += 0\n",
    "\n",
    "\n",
    "            self.result = max(self.result, left + right)\n",
    "\n",
    "            return max(left, right)\n",
    "    \n",
    "        dfs(root)\n",
    "        return self.result\n",
    "\n",
    "\n",
    "\n",
    "    \n",
    "    "
   ]
  },
  {
   "cell_type": "code",
   "execution_count": 48,
   "metadata": {},
   "outputs": [],
   "source": [
    "s = Solution()"
   ]
  },
  {
   "cell_type": "code",
   "execution_count": 49,
   "metadata": {},
   "outputs": [
    {
     "data": {
      "text/plain": [
       "2"
      ]
     },
     "execution_count": 49,
     "metadata": {},
     "output_type": "execute_result"
    }
   ],
   "source": [
    "s.longestUnivaluepath(t)"
   ]
  },
  {
   "cell_type": "code",
   "execution_count": null,
   "metadata": {},
   "outputs": [],
   "source": []
  }
 ],
 "metadata": {
  "kernelspec": {
   "display_name": "Python 3",
   "language": "python",
   "name": "python3"
  },
  "language_info": {
   "codemirror_mode": {
    "name": "ipython",
    "version": 3
   },
   "file_extension": ".py",
   "mimetype": "text/x-python",
   "name": "python",
   "nbconvert_exporter": "python",
   "pygments_lexer": "ipython3",
   "version": "3.7.4"
  }
 },
 "nbformat": 4,
 "nbformat_minor": 2
}
