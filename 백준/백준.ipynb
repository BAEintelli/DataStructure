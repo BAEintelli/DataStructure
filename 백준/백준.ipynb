{
 "cells": [
  {
   "cell_type": "markdown",
   "metadata": {},
   "source": [
    "타로는 자주 JOI잡화점에서 물건을 산다. JOI잡화점에는 잔돈으로 500엔, 100엔, 50엔, 10엔, 5엔, 1엔이 충분히 있고, 언제나 거스름돈 개수가 가장 적게 잔돈을 준다. 타로가 JOI잡화점에서 물건을 사고 카운터에서 1000엔 지폐를 한장 냈을 때, 받을 잔돈에 포함된 잔돈의 개수를 구하는 프로그램을 작성하시오.\n",
    "\n",
    "예를 들어 입력된 예1의 경우에는 아래 그림에서 처럼 4개를 출력해야 한다."
   ]
  },
  {
   "cell_type": "code",
   "execution_count": 4,
   "metadata": {},
   "outputs": [],
   "source": [
    "def changes(change):\n",
    "    result = []\n",
    "    price = 1000 -change\n",
    "    while price != 0:\n",
    "        \n",
    "        if price >= 500:\n",
    "            price -= 500\n",
    "            result.append(500)\n",
    "        elif price >= 100:\n",
    "            price -= 100\n",
    "            result.append(100)\n",
    "        elif price >= 50:\n",
    "            price -= 50\n",
    "            result.append(50)\n",
    "        elif price >= 10:\n",
    "            price -= 10\n",
    "            result.append(10)\n",
    "        elif price >=5:\n",
    "            price -= 5\n",
    "            result.append(5)\n",
    "        elif price >= 1:\n",
    "            price -= 1\n",
    "            result.append(1)\n",
    "            \n",
    "    return result"
   ]
  },
  {
   "cell_type": "code",
   "execution_count": 5,
   "metadata": {},
   "outputs": [
    {
     "data": {
      "text/plain": [
       "[500, 100, 50, 10, 10, 10]"
      ]
     },
     "execution_count": 5,
     "metadata": {},
     "output_type": "execute_result"
    }
   ],
   "source": [
    "\n",
    "changes(320)"
   ]
  },
  {
   "cell_type": "code",
   "execution_count": null,
   "metadata": {},
   "outputs": [],
   "source": [
    "changes = 1000 - int(input())\n",
    "count = 0\n",
    "for i in [500, 100, 50, 10, 5, 1]:\n",
    "count += changes // i\n",
    "changes %= i\n",
    "print(count)"
   ]
  },
  {
   "cell_type": "markdown",
   "metadata": {},
   "source": [
    "다솜이는 0과 1로만 이루어진 문자열 S를 가지고 있다. 다솜이는 이 문자열 S에 있는 모든 숫자를 전부 같게 만들려고 한다. 다솜이가 할 수 있는 행동은 S에서 연속된 하나 이상의 숫자를 잡고 모두 뒤집는 것이다. 뒤집는 것은 1을 0으로, 0을 1로 바꾸는 것을 의미한다.\n",
    "\n",
    "예를 들어 S=0001100 일 때,\n",
    "\n",
    "전체를 뒤집으면 1110011이 된다.\n",
    "4번째 문자부터 5번째 문자까지 뒤집으면 1111111이 되어서 2번 만에 모두 같은 숫자로 만들 수 있다.\n",
    "하지만, 처음부터 4번째 문자부터 5번째 문자까지 문자를 뒤집으면 한 번에 0000000이 되어서 1번 만에 모두 같은 숫자로 만들 수 있다.\n",
    "\n",
    "문자열 S가 주어졌을 때, 다솜이가 해야하는 행동의 최소 횟수를 출력하시오."
   ]
  },
  {
   "cell_type": "code",
   "execution_count": 14,
   "metadata": {},
   "outputs": [],
   "source": [
    "def find_min(data):\n",
    "    \n",
    "    z = [x  for x in data.split('0') if x != '']\n",
    "    k = [x  for x in data.split('1') if x != '']\n",
    "    return min(len(z), len(k))"
   ]
  },
  {
   "cell_type": "code",
   "execution_count": 15,
   "metadata": {},
   "outputs": [
    {
     "data": {
      "text/plain": [
       "1"
      ]
     },
     "execution_count": 15,
     "metadata": {},
     "output_type": "execute_result"
    }
   ],
   "source": [
    "find_min('11111100000011111')"
   ]
  },
  {
   "cell_type": "code",
   "execution_count": null,
   "metadata": {},
   "outputs": [],
   "source": []
  }
 ],
 "metadata": {
  "kernelspec": {
   "display_name": "Python 3",
   "language": "python",
   "name": "python3"
  },
  "language_info": {
   "codemirror_mode": {
    "name": "ipython",
    "version": 3
   },
   "file_extension": ".py",
   "mimetype": "text/x-python",
   "name": "python",
   "nbconvert_exporter": "python",
   "pygments_lexer": "ipython3",
   "version": "3.7.4"
  }
 },
 "nbformat": 4,
 "nbformat_minor": 2
}
