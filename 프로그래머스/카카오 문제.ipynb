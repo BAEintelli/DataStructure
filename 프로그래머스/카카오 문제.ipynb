{
 "cells": [
  {
   "cell_type": "code",
   "execution_count": null,
   "metadata": {},
   "outputs": [],
   "source": [
    "개발언어는 cpp, java, python 중 하나입니다.\n",
    "직군은 backend, frontend 중 하나입니다.\n",
    "경력은 junior, senior 중 하나입니다.\n",
    "소울푸드는 chicken, pizza 중 하나입니다."
   ]
  },
  {
   "cell_type": "code",
   "execution_count": 1,
   "metadata": {},
   "outputs": [],
   "source": [
    "info = [\"java backend junior pizza 150\",\"python frontend senior chicken 210\",\"python frontend senior chicken 150\",\"cpp backend senior pizza 260\",\"java backend junior chicken 80\",\"python backend senior chicken 50\"]"
   ]
  },
  {
   "cell_type": "code",
   "execution_count": 2,
   "metadata": {},
   "outputs": [],
   "source": [
    "query = [\"java and backend and junior and pizza 100\",\"python and frontend and senior and chicken 200\",\"cpp and - and senior and pizza 250\",\"- and backend and senior and - 150\",\"- and - and - and chicken 100\",\"- and - and - and - 150\"]"
   ]
  },
  {
   "cell_type": "code",
   "execution_count": 3,
   "metadata": {},
   "outputs": [],
   "source": [
    "result = [1,1,1,1,2,4]"
   ]
  },
  {
   "cell_type": "code",
   "execution_count": 20,
   "metadata": {},
   "outputs": [],
   "source": [
    "language = ['cpp', 'java', 'python']\n",
    "work = ['backend', 'frontend']\n",
    "carrer = ['junior', 'senior']\n",
    "food = ['chicken', 'pizza']"
   ]
  },
  {
   "cell_type": "code",
   "execution_count": 21,
   "metadata": {},
   "outputs": [],
   "source": [
    "def calc(a,b, c, d, e, info_dict):\n",
    "    alt = 0\n",
    "    if a == '-':\n",
    "        for i in language:\n",
    "            alt += calc(i, b, c, d, e, info_dict)\n",
    "            \n",
    "    elif b == '-':\n",
    "        print('l')\n",
    "        for i in work:\n",
    "            alt += calc(a, i, c, d, e, info_dict)\n",
    "            \n",
    "    elif c == '-':\n",
    "        for i in carrer:\n",
    "            alt += calc(a, b, i, d, e, info_dict)\n",
    "    \n",
    "    elif d == '-':\n",
    "        for i in food:\n",
    "            alt += calc(a, b, c, i, e, info_dict)\n",
    "        \n",
    "    else:    \n",
    "        \n",
    "        idx  = bisect.bisect_left(info_dict[a][b][c][d] ,e)\n",
    "        alt = len(info_dict[a][b][c][d]) - idx\n",
    "    return alt\n",
    "\n",
    "\n",
    "\n",
    "\n",
    "def solution(info, query):    \n",
    "    info_dict = {}\n",
    "    for a in language:\n",
    "        info_dict[a] = {}\n",
    "        for b in work:\n",
    "            info_dict[a][b] = {}\n",
    "            for c in carrer:\n",
    "                info_dict[a][b][c] = {}\n",
    "                for d in food:\n",
    "                    info_dict[a][b][c][d] = []\n",
    "\n",
    "\n",
    "    for i in info:\n",
    "        a, b, c, d, e = i.split()\n",
    "        info_dict[a][b][c][d].append(int(e))\n",
    "\n",
    "\n",
    "    for a in language:\n",
    "        for b in work:\n",
    "            for c in carrer:\n",
    "                for d in food:\n",
    "                    info_dict[a][b][c][d].sort() \n",
    "\n",
    "    result = []\n",
    "    for q in query:\n",
    "        a, b, c, d = q.split(' and ')\n",
    "        d, e = d.split(' ')\n",
    "        print(a,b,c,d,e)\n",
    "        result.append(calc(a,b,c,d, int(e),info_dict))\n",
    "\n",
    "    return result"
   ]
  },
  {
   "cell_type": "code",
   "execution_count": 22,
   "metadata": {},
   "outputs": [
    {
     "data": {
      "text/plain": [
       "{'cpp': {'backend': {'junior': {'chicken': [], 'pizza': []},\n",
       "   'senior': {'chicken': [], 'pizza': []}},\n",
       "  'frontend': {'junior': {'chicken': [], 'pizza': []},\n",
       "   'senior': {'chicken': [], 'pizza': []}}},\n",
       " 'java': {'backend': {'junior': {'chicken': [], 'pizza': []},\n",
       "   'senior': {'chicken': [], 'pizza': []}},\n",
       "  'frontend': {'junior': {'chicken': [], 'pizza': []},\n",
       "   'senior': {'chicken': [], 'pizza': []}}},\n",
       " 'python': {'backend': {'junior': {'chicken': [], 'pizza': []},\n",
       "   'senior': {'chicken': [], 'pizza': []}},\n",
       "  'frontend': {'junior': {'chicken': [], 'pizza': []},\n",
       "   'senior': {'chicken': [], 'pizza': []}}}}"
      ]
     },
     "execution_count": 22,
     "metadata": {},
     "output_type": "execute_result"
    }
   ],
   "source": [
    "info_dict"
   ]
  },
  {
   "cell_type": "code",
   "execution_count": 23,
   "metadata": {},
   "outputs": [],
   "source": []
  },
  {
   "cell_type": "code",
   "execution_count": 25,
   "metadata": {},
   "outputs": [],
   "source": []
  },
  {
   "cell_type": "code",
   "execution_count": 26,
   "metadata": {},
   "outputs": [
    {
     "data": {
      "text/plain": [
       "{'cpp': {'backend': {'junior': {'chicken': [], 'pizza': []},\n",
       "   'senior': {'chicken': [], 'pizza': [260]}},\n",
       "  'frontend': {'junior': {'chicken': [], 'pizza': []},\n",
       "   'senior': {'chicken': [], 'pizza': []}}},\n",
       " 'java': {'backend': {'junior': {'chicken': [80], 'pizza': [150]},\n",
       "   'senior': {'chicken': [], 'pizza': []}},\n",
       "  'frontend': {'junior': {'chicken': [], 'pizza': []},\n",
       "   'senior': {'chicken': [], 'pizza': []}}},\n",
       " 'python': {'backend': {'junior': {'chicken': [], 'pizza': []},\n",
       "   'senior': {'chicken': [50], 'pizza': []}},\n",
       "  'frontend': {'junior': {'chicken': [], 'pizza': []},\n",
       "   'senior': {'chicken': [150, 210], 'pizza': []}}}}"
      ]
     },
     "execution_count": 26,
     "metadata": {},
     "output_type": "execute_result"
    }
   ],
   "source": [
    "info_dict"
   ]
  },
  {
   "cell_type": "code",
   "execution_count": 35,
   "metadata": {},
   "outputs": [
    {
     "name": "stdout",
     "output_type": "stream",
     "text": [
      "java backend junior pizza 100\n",
      "python frontend senior chicken 200\n",
      "cpp - senior pizza 250\n",
      "l\n",
      "- backend senior - 150\n",
      "- - - chicken 100\n",
      "l\n",
      "l\n",
      "l\n",
      "- - - - 150\n",
      "l\n",
      "l\n",
      "l\n"
     ]
    }
   ],
   "source": []
  },
  {
   "cell_type": "code",
   "execution_count": 36,
   "metadata": {},
   "outputs": [
    {
     "data": {
      "text/plain": [
       "[1, 1, 1, 1, 2, 4]"
      ]
     },
     "execution_count": 36,
     "metadata": {},
     "output_type": "execute_result"
    }
   ],
   "source": [
    "result"
   ]
  },
  {
   "cell_type": "code",
   "execution_count": 15,
   "metadata": {},
   "outputs": [],
   "source": [
    "import bisect"
   ]
  },
  {
   "cell_type": "markdown",
   "metadata": {},
   "source": [
    "'''play_time\tadv_time\tlogs\tresult\n",
    "\"02:03:55\"\t\"00:14:15\"\t[\"01:20:15-01:45:14\", \"00:40:31-01:00:00\", \"00:25:50-00:48:29\", \"01:30:59-01:53:29\", \"01:37:44-02:02:30\"]\t\"01:30:59\"\n",
    "\"99:59:59\"\t\"25:00:00\"\t[\"69:59:59-89:59:59\", \"01:00:00-21:00:00\", \"79:59:59-99:59:59\", \"11:00:00-31:00:00\"]\t\"01:00:00\"\n",
    "\"50:00:00\"\t\"50:00:00\"\t[\"15:36:51-38:21:49\", \"10:14:18-15:36:51\", \"38:21:49-42:51:45\"]\t\"00:00:00\"'''"
   ]
  },
  {
   "cell_type": "code",
   "execution_count": 45,
   "metadata": {},
   "outputs": [],
   "source": [
    "play_time = \"02:03:55\"\n",
    "adv_time = \"00:14:15\"\n",
    "logs = [\"01:20:15-01:45:14\", \"00:40:31-01:00:00\", \"00:25:50-00:48:29\", \"01:30:59-01:53:29\", \"01:37:44-02:02:30\"]\n"
   ]
  },
  {
   "cell_type": "code",
   "execution_count": 89,
   "metadata": {},
   "outputs": [],
   "source": [
    "play_time =\"50:00:00\"\n",
    "adv_time = \"50:00:00\"\n",
    "logs = [\"15:36:51-38:21:49\", \"10:14:18-15:36:51\", \"38:21:49-42:51:45\"]"
   ]
  },
  {
   "cell_type": "code",
   "execution_count": 95,
   "metadata": {},
   "outputs": [
    {
     "name": "stdout",
     "output_type": "stream",
     "text": [
      "0\n"
     ]
    },
    {
     "data": {
      "text/plain": [
       "'00:00:00'"
      ]
     },
     "execution_count": 95,
     "metadata": {},
     "output_type": "execute_result"
    }
   ],
   "source": [
    "solution(play_time, adv_time, logs)"
   ]
  },
  {
   "cell_type": "code",
   "execution_count": 63,
   "metadata": {},
   "outputs": [],
   "source": [
    "def str_sec(time):\n",
    "    a, b, c  = time.split(\":\")\n",
    "    \n",
    "    sec = timedelta( hours=int(a),  minutes=int(b), seconds=int(c)).total_seconds()\n",
    "    return int(sec)"
   ]
  },
  {
   "cell_type": "code",
   "execution_count": 94,
   "metadata": {},
   "outputs": [],
   "source": [
    "from datetime import datetime, timedelta\n",
    "def str_sec(time):\n",
    "    a, b, c  = time.split(\":\")\n",
    "    \n",
    "    sec = timedelta( hours=int(a),  minutes=int(b), seconds=int(c)).total_seconds()\n",
    "    return int(sec)\n",
    "def solution(play_time, adv_time, logs):\n",
    "    # 들어왔을 때 타임 테이블 만들기\n",
    "    time_table =  [0 for _ in range(str_sec(play_time)+1 )]\n",
    "\n",
    "    for log in logs:\n",
    "        start, end = log.split('-')\n",
    "        start = str_sec(start)\n",
    "        end =  str_sec(end)\n",
    "        time_table[start]+= 1\n",
    "        time_table[end] -= 1\n",
    "    # 타임 테이블을 더해간다.    \n",
    "\n",
    "    for i in range(1, len(time_table)):\n",
    "        time_table[i] += time_table[i-1] \n",
    "    \n",
    "    \n",
    "    adv_time = str_sec(adv_time)\n",
    "    cur_max =  sum(time_table[:adv_time])\n",
    "    total_max = cur_max\n",
    "    total_max_idx = 0\n",
    "\n",
    "\n",
    "\n",
    "    for i in range(1, str_sec(play_time)-adv_time): \n",
    "\n",
    "        cur_max -=  time_table[i-1]\n",
    "        cur_max +=  time_table[i+adv_time]\n",
    "        if cur_max > total_max:\n",
    "            total_max = cur_max\n",
    "            total_max_idx = i\n",
    "\n",
    "    print(total_max_idx)\n",
    "    a = total_max_idx//3600\n",
    "    total_max_idx  -= a*3600\n",
    "    b = total_max_idx // 60\n",
    "    total_max_idx  -= b*60\n",
    "\n",
    "    answer = '%02d:%02d:%02d' % (a,b,total_max_idx)      \n",
    "    return answer"
   ]
  },
  {
   "cell_type": "code",
   "execution_count": null,
   "metadata": {},
   "outputs": [],
   "source": []
  },
  {
   "cell_type": "code",
   "execution_count": null,
   "metadata": {},
   "outputs": [],
   "source": []
  },
  {
   "cell_type": "code",
   "execution_count": null,
   "metadata": {},
   "outputs": [],
   "source": []
  },
  {
   "cell_type": "code",
   "execution_count": null,
   "metadata": {},
   "outputs": [],
   "source": []
  },
  {
   "cell_type": "code",
   "execution_count": 74,
   "metadata": {},
   "outputs": [
    {
     "data": {
      "text/plain": [
       "2162"
      ]
     },
     "execution_count": 74,
     "metadata": {},
     "output_type": "execute_result"
    }
   ],
   "source": [
    "total_max"
   ]
  },
  {
   "cell_type": "code",
   "execution_count": 79,
   "metadata": {},
   "outputs": [
    {
     "data": {
      "text/plain": [
       "5459"
      ]
     },
     "execution_count": 79,
     "metadata": {},
     "output_type": "execute_result"
    }
   ],
   "source": [
    "# 바꿔보자 \n",
    "total_max_idx"
   ]
  },
  {
   "cell_type": "code",
   "execution_count": 80,
   "metadata": {},
   "outputs": [
    {
     "data": {
      "text/plain": [
       "1"
      ]
     },
     "execution_count": 80,
     "metadata": {},
     "output_type": "execute_result"
    }
   ],
   "source": [
    "5495//3600"
   ]
  },
  {
   "cell_type": "code",
   "execution_count": 82,
   "metadata": {},
   "outputs": [],
   "source": []
  },
  {
   "cell_type": "code",
   "execution_count": 87,
   "metadata": {},
   "outputs": [
    {
     "data": {
      "text/plain": [
       "'01:30:59'"
      ]
     },
     "execution_count": 87,
     "metadata": {},
     "output_type": "execute_result"
    }
   ],
   "source": []
  },
  {
   "cell_type": "code",
   "execution_count": 84,
   "metadata": {},
   "outputs": [
    {
     "data": {
      "text/plain": [
       "30"
      ]
     },
     "execution_count": 84,
     "metadata": {},
     "output_type": "execute_result"
    }
   ],
   "source": [
    "b"
   ]
  },
  {
   "cell_type": "code",
   "execution_count": 85,
   "metadata": {},
   "outputs": [
    {
     "data": {
      "text/plain": [
       "59"
      ]
     },
     "execution_count": 85,
     "metadata": {},
     "output_type": "execute_result"
    }
   ],
   "source": [
    "total_max_idx"
   ]
  },
  {
   "cell_type": "code",
   "execution_count": 56,
   "metadata": {},
   "outputs": [
    {
     "ename": "TypeError",
     "evalue": "unsupported type for timedelta days component: datetime.datetime",
     "output_type": "error",
     "traceback": [
      "\u001b[1;31m---------------------------------------------------------------------------\u001b[0m",
      "\u001b[1;31mTypeError\u001b[0m                                 Traceback (most recent call last)",
      "\u001b[1;32m<ipython-input-56-8d79af9f1b1d>\u001b[0m in \u001b[0;36m<module>\u001b[1;34m\u001b[0m\n\u001b[1;32m----> 1\u001b[1;33m \u001b[0mtimedelta\u001b[0m\u001b[1;33m(\u001b[0m\u001b[0mdatetime\u001b[0m\u001b[1;33m.\u001b[0m\u001b[0mstrptime\u001b[0m\u001b[1;33m(\u001b[0m\u001b[0mplay_time\u001b[0m\u001b[1;33m,\u001b[0m \u001b[1;34m'%H:%M:%S'\u001b[0m\u001b[1;33m)\u001b[0m\u001b[1;33m)\u001b[0m\u001b[1;33m.\u001b[0m\u001b[0mtotal_seconds\u001b[0m\u001b[1;33m(\u001b[0m\u001b[1;33m)\u001b[0m\u001b[1;33m\u001b[0m\u001b[1;33m\u001b[0m\u001b[0m\n\u001b[0m",
      "\u001b[1;31mTypeError\u001b[0m: unsupported type for timedelta days component: datetime.datetime"
     ]
    }
   ],
   "source": [
    "timedelta().total_seconds()"
   ]
  },
  {
   "cell_type": "code",
   "execution_count": null,
   "metadata": {},
   "outputs": [],
   "source": [
    "left  = 0\n",
    "right = left + adv_time\n",
    "while left >= right "
   ]
  }
 ],
 "metadata": {
  "kernelspec": {
   "display_name": "Python 3",
   "language": "python",
   "name": "python3"
  },
  "language_info": {
   "codemirror_mode": {
    "name": "ipython",
    "version": 3
   },
   "file_extension": ".py",
   "mimetype": "text/x-python",
   "name": "python",
   "nbconvert_exporter": "python",
   "pygments_lexer": "ipython3",
   "version": "3.7.4"
  }
 },
 "nbformat": 4,
 "nbformat_minor": 2
}
