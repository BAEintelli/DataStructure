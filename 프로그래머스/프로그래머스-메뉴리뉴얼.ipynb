{
 "cells": [
  {
   "cell_type": "markdown",
   "metadata": {},
   "source": [
    "레스토랑을 운영하던 스카피는 코로나19로 인한 불경기를 극복하고자 메뉴를 새로 구성하려고 고민하고 있습니다.\n",
    "기존에는 단품으로만 제공하던 메뉴를 조합해서 코스요리 형태로 재구성해서 새로운 메뉴를 제공하기로 결정했습니다. 어떤 단품메뉴들을 조합해서 코스요리 메뉴로 구성하면 좋을 지 고민하던 \"스카피\"는 이전에 각 손님들이 주문할 때 가장 많이 함께 주문한 단품메뉴들을 코스요리 메뉴로 구성하기로 했습니다.\n",
    "단, 코스요리 메뉴는 최소 2가지 이상의 단품메뉴로 구성하려고 합니다. 또한, 최소 2명 이상의 손님으로부터 주문된 단품메뉴 조합에 대해서만 코스요리 메뉴 후보에 포함하기로 했습니다.\n",
    "\n",
    "예를 들어, 손님 6명이 주문한 단품메뉴들의 조합이 다음과 같다면,\n",
    "(각 손님은 단품메뉴를 2개 이상 주문해야 하며, 각 단품메뉴는 A ~ Z의 알파벳 대문자로 표기합니다.)"
   ]
  },
  {
   "cell_type": "code",
   "execution_count": 3,
   "metadata": {},
   "outputs": [
    {
     "data": {
      "text/plain": [
       "'손님 번호\\t주문한 단품메뉴 조합\\n1번 손님\\tA, B, C, F, G\\n2번 손님\\tA, C\\n3번 손님\\tC, D, E\\n4번 손님\\tA, C, D, E\\n5번 손님\\tB, C, F, G\\n6번 손님\\tA, C, D, E, H\\n가장 많이 함께 주문된 단품메뉴 조합에 따라 \"스카피\"가 만들게 될 코스요리 메뉴 구성 후보는 다음과 같습니다.\\n\\n코스 종류\\t메뉴 구성\\t설명\\n요리 2개 코스\\tA, C\\t1번, 2번, 4번, 6번 손님으로부터 총 4번 주문됐습니다.\\n요리 3개 코스\\tC, D, E\\t3번, 4번, 6번 손님으로부터 총 3번 주문됐습니다.\\n요리 4개 코스\\tB, C, F, G\\t1번, 5번 손님으로부터 총 2번 주문됐습니다.\\n요리 4개 코스\\tA, C, D, E\\t4번, 6번 손님으로부터 총 2번 주문됐습니다.'"
      ]
     },
     "execution_count": 3,
     "metadata": {},
     "output_type": "execute_result"
    }
   ],
   "source": [
    "'''손님 번호\t주문한 단품메뉴 조합\n",
    "1번 손님\tA, B, C, F, G\n",
    "2번 손님\tA, C\n",
    "3번 손님\tC, D, E\n",
    "4번 손님\tA, C, D, E\n",
    "5번 손님\tB, C, F, G\n",
    "6번 손님\tA, C, D, E, H\n",
    "가장 많이 함께 주문된 단품메뉴 조합에 따라 \"스카피\"가 만들게 될 코스요리 메뉴 구성 후보는 다음과 같습니다.\n",
    "\n",
    "코스 종류\t메뉴 구성\t설명\n",
    "요리 2개 코스\tA, C\t1번, 2번, 4번, 6번 손님으로부터 총 4번 주문됐습니다.\n",
    "요리 3개 코스\tC, D, E\t3번, 4번, 6번 손님으로부터 총 3번 주문됐습니다.\n",
    "요리 4개 코스\tB, C, F, G\t1번, 5번 손님으로부터 총 2번 주문됐습니다.\n",
    "요리 4개 코스\tA, C, D, E\t4번, 6번 손님으로부터 총 2번 주문됐습니다.'''"
   ]
  },
  {
   "cell_type": "code",
   "execution_count": null,
   "metadata": {},
   "outputs": [],
   "source": [
    "\n",
    "\n",
    "from itertools import combinations\n",
    "from collections import Counter\n",
    "\n",
    "\n",
    "def solution(orders, course):\n",
    "    answer = []\n",
    "    for c in course:\n",
    "        temp = []\n",
    "        for order in orders:\n",
    "            combi = combinations(sorted(order), c)\n",
    "            temp += combi\n",
    "        counter = Counter(temp)\n",
    "        if len(counter) != 0 and max(counter.values()) != 1:\n",
    "            answer += [''.join(f) for f in counter if counter[f] == max(counter.values())]\n",
    "\n",
    "    return sorted(answer)"
   ]
  }
 ],
 "metadata": {
  "kernelspec": {
   "display_name": "Python 3",
   "language": "python",
   "name": "python3"
  },
  "language_info": {
   "codemirror_mode": {
    "name": "ipython",
    "version": 3
   },
   "file_extension": ".py",
   "mimetype": "text/x-python",
   "name": "python",
   "nbconvert_exporter": "python",
   "pygments_lexer": "ipython3",
   "version": "3.7.4"
  }
 },
 "nbformat": 4,
 "nbformat_minor": 2
}
