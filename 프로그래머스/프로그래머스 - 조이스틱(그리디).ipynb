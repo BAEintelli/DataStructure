{
 "cells": [
  {
   "cell_type": "markdown",
   "metadata": {},
   "source": [
    "▲ - 다음 알파벳\n",
    "▼ - 이전 알파벳 (A에서 아래쪽으로 이동하면 Z로)\n",
    "◀ - 커서를 왼쪽으로 이동 (첫 번째 위치에서 왼쪽으로 이동하면 마지막 문자에 커서)\n",
    "▶ - 커서를 오른쪽으로 이동"
   ]
  },
  {
   "cell_type": "markdown",
   "metadata": {},
   "source": [
    "- 첫 번째 위치에서 조이스틱을 위로 9번 조작하여 J를 완성합니다.\n",
    "- 조이스틱을 왼쪽으로 1번 조작하여 커서를 마지막 문자 위치로 이동시킵니다.\n",
    "- 마지막 위치에서 조이스틱을 아래로 1번 조작하여 Z를 완성합니다.\n",
    "따라서 11번 이동시켜 \"JAZ\"를 만들 수 있고, 이때가 최소 이동입니다."
   ]
  },
  {
   "cell_type": "code",
   "execution_count": null,
   "metadata": {},
   "outputs": [],
   "source": [
    "def solution(name):\n",
    "    cnt=0 # 총 이동 횟수\n",
    "    a_cnt=0 # 'A'의 개수\n",
    "    a_max=0 # 'A'의 최대개수\n",
    "    idx=0 # 최대'A'개수 문자열의 마지막 인덱스\n",
    "    a_startIdx=0 # 최대'A'개수 문자열의 첫번째 인덱스\n",
    "    wander_cnt=0 # 좌우로 왔다갔다하는 횟수 카운트\n",
    "    \n",
    "    # 위, 아래 조이스틱 계산\n",
    "    for i, n in enumerate(name):\n",
    "        if n == 'A': # 'A'개수의 최대값과 그 인덱스 계산\n",
    "            a_cnt += 1\n",
    "            if a_cnt > a_max:\n",
    "                a_max = a_cnt\n",
    "                idx = i\n",
    "        else:\n",
    "            cnt += min(ord(n)-ord('A'), ord('Z')-ord(n)+1)\n",
    "            a_cnt = 0\n",
    "    \n",
    "    # 최대'A'개수의 시작 인덱스\n",
    "    a_startIdx = idx-a_max + 1\n",
    "    \n",
    "    # 최대'A'가 맨 앞이나 맨 끝에 있는 경우\n",
    "    if a_startIdx == 0 or idx == len(name) -1:\n",
    "        cnt += len(name)-1-a_max # a_max개만큼 이동 안해도 됨\n",
    "    else:\n",
    "        left = len(name)-idx-1 # 최대'A'뒤에 남아있는 문자의 개수\n",
    "        if a_startIdx <= left: # 뒤에 문자가 앞에 문자개수보다 많은 경우\n",
    "            wander_cnt = (a_startIdx-1)*2 + left\n",
    "        else:\n",
    "            wander_cnt = (a_startIdx-1) + left*2\n",
    "        cnt += min(wander_cnt, len(name)-1) # 그냥 한쪽방향으로 모두 이동하는 것과 비교\n",
    "\n",
    "    return cnt"
   ]
  }
 ],
 "metadata": {
  "kernelspec": {
   "display_name": "Python 3",
   "language": "python",
   "name": "python3"
  },
  "language_info": {
   "codemirror_mode": {
    "name": "ipython",
    "version": 3
   },
   "file_extension": ".py",
   "mimetype": "text/x-python",
   "name": "python",
   "nbconvert_exporter": "python",
   "pygments_lexer": "ipython3",
   "version": "3.7.4"
  }
 },
 "nbformat": 4,
 "nbformat_minor": 2
}
