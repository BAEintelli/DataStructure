{
 "cells": [
  {
   "cell_type": "markdown",
   "metadata": {},
   "source": [
    "문제 설명\n",
    "이중 우선순위 큐는 다음 연산을 할 수 있는 자료구조를 말합니다.\n",
    "\n",
    "명령어\t수신 탑(높이)\n",
    "I 숫자\t큐에 주어진 숫자를 삽입합니다.\n",
    "D 1\t큐에서 최댓값을 삭제합니다.\n",
    "D -1\t큐에서 최솟값을 삭제합니다.\n",
    "이중 우선순위 큐가 할 연산 operations가 매개변수로 주어질 때, 모든 연산을 처리한 후 큐가 비어있으면 [0,0] 비어있지 않으면 [최댓값, 최솟값]을 return 하도록 solution 함수를 구현해주세요.\n",
    "\n",
    "제한사항\n",
    "operations는 길이가 1 이상 1,000,000 이하인 문자열 배열입니다.\n",
    "operations의 원소는 큐가 수행할 연산을 나타냅니다.\n",
    "원소는 “명령어 데이터” 형식으로 주어집니다.- 최댓값/최솟값을 삭제하는 연산에서 최댓값/최솟값이 둘 이상인 경우, 하나만 삭제합니다.\n",
    "빈 큐에 데이터를 삭제하라는 연산이 주어질 경우, 해당 연산은 무시합니다."
   ]
  },
  {
   "cell_type": "code",
   "execution_count": 45,
   "metadata": {},
   "outputs": [],
   "source": [
    "def solution(operations):\n",
    "    maxheap = []\n",
    "    minheap = []\n",
    "    for op in operations:\n",
    "        if op[0] == 'I':\n",
    "            heapq.heappush(minheap , int(op[2:]))\n",
    "            heapq.heappush(maxheap, -int(op[2:]))\n",
    "            \n",
    "            \n",
    "        elif op[0] == 'D':\n",
    "            if len(minheap)>0:\n",
    "                if op[2] == '-':\n",
    "                    print(minheap , maxheap)                \n",
    "                    k = heapq.heappop(minheap)\n",
    "\n",
    "                    if -k in maxheap:\n",
    "                        maxheap.remove(-k)\n",
    "                else:\n",
    "                    k = heapq.heappop(maxheap)\n",
    "                    if -k in minheap:\n",
    "                        minheap.remove(-k)\n",
    "                \n",
    "    \n",
    "    answer = [-heapq.heappop(maxheap) if len(maxheap)!=0 else 0, heapq.heappop(minheap)if len(minheap)!=0 else 0]\n",
    "    return answer"
   ]
  },
  {
   "cell_type": "code",
   "execution_count": 47,
   "metadata": {},
   "outputs": [
    {
     "name": "stdout",
     "output_type": "stream",
     "text": [
      "[-5, 7, 5] [-7, -5, 5]\n"
     ]
    },
    {
     "data": {
      "text/plain": [
       "[7, 5]"
      ]
     },
     "execution_count": 47,
     "metadata": {},
     "output_type": "execute_result"
    }
   ],
   "source": [
    "solution([\"I 7\",\"I 5\",\"I -5\",\"D -1\"])"
   ]
  },
  {
   "cell_type": "markdown",
   "metadata": {},
   "source": [
    "문제 설명\n",
    "- H-Index는 과학자의 생산성과 영향력을 나타내는 지표입니다. 어느 과학자의 H-Index를 나타내는 값인 h를 구하려고 합니다. 위키백과1에 따르면, H-Index는 다음과 같이 구합니다.\n",
    "\n",
    "- 어떤 과학자가 발표한 논문 n편 중, h번 이상 인용된 논문이 h편 이상이고 나머지 논문이 h번 이하 인용되었다면 h의 최댓값이 이 과학자의 H-Index입니다.\n",
    "\n",
    "- 어떤 과학자가 발표한 논문의 인용 횟수를 담은 배열 citations가 매개변수로 주어질 때, 이 과학자의 H-Index를 return 하도록 solution 함수를 작성해주세요.\n",
    "\n",
    "- 제한사항\n",
    "과학자가 발표한 논문의 수는 1편 이상 1,000편 이하입니다.\n",
    "논문별 인용 횟수는 0회 이상 10,000회 이하입니다."
   ]
  },
  {
   "cell_type": "code",
   "execution_count": 52,
   "metadata": {},
   "outputs": [],
   "source": [
    "def solution(citations):\n",
    "    citations = sorted(citations, reverse=True)\n",
    "    index  = 0\n",
    "    while index <= len(citations)-1:\n",
    "        h = citations[index]\n",
    "        if index >= h:\n",
    "            return index\n",
    "        index +=1\n",
    "    return len(citations)"
   ]
  }
 ],
 "metadata": {
  "kernelspec": {
   "display_name": "Python 3",
   "language": "python",
   "name": "python3"
  },
  "language_info": {
   "codemirror_mode": {
    "name": "ipython",
    "version": 3
   },
   "file_extension": ".py",
   "mimetype": "text/x-python",
   "name": "python",
   "nbconvert_exporter": "python",
   "pygments_lexer": "ipython3",
   "version": "3.7.4"
  }
 },
 "nbformat": 4,
 "nbformat_minor": 2
}
