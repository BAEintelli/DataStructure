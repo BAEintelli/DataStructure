{
 "cells": [
  {
   "cell_type": "markdown",
   "metadata": {},
   "source": [
    "### 피보나치 수열 "
   ]
  },
  {
   "cell_type": "code",
   "execution_count": 25,
   "metadata": {},
   "outputs": [],
   "source": [
    "#메모이제이션 하향식\n",
    "from collections import defaultdict\n",
    "dp = defaultdict(int)\n",
    "def fib(N):\n",
    "\n",
    "    if N <= 1:\n",
    "        return N\n",
    "\n",
    "    if dp[N]:\n",
    "        return dp[N]\n",
    "    \n",
    "    dp[N] = fib(N-1) + fib(N-2)\n",
    "    return dp[N]"
   ]
  },
  {
   "cell_type": "code",
   "execution_count": 26,
   "metadata": {},
   "outputs": [
    {
     "data": {
      "text/plain": [
       "5"
      ]
     },
     "execution_count": 26,
     "metadata": {},
     "output_type": "execute_result"
    }
   ],
   "source": [
    "fib(5)"
   ]
  },
  {
   "cell_type": "code",
   "execution_count": 27,
   "metadata": {},
   "outputs": [],
   "source": [
    "#타뷸레이션\n",
    "dp = defaultdict(int)\n",
    "\n",
    "def fib(N):\n",
    "    dp[1] = 1\n",
    "\n",
    "    for i in range(2, N+1):\n",
    "        \n",
    "        dp[i] = dp[i-1]+dp[i-2]\n",
    "        \n",
    "    return dp[N]"
   ]
  },
  {
   "cell_type": "code",
   "execution_count": 28,
   "metadata": {},
   "outputs": [
    {
     "data": {
      "text/plain": [
       "5"
      ]
     },
     "execution_count": 28,
     "metadata": {},
     "output_type": "execute_result"
    }
   ],
   "source": [
    "fib(5)"
   ]
  },
  {
   "cell_type": "code",
   "execution_count": null,
   "metadata": {},
   "outputs": [],
   "source": [
    "# 최대 서브 배열\n",
    "# 합이 최대가 되는 연속 서브 배열을 찾아 합을 리턴하라"
   ]
  },
  {
   "cell_type": "code",
   "execution_count": 20,
   "metadata": {},
   "outputs": [],
   "source": [
    "test = [-2, 1,-3, 4, -1,2,1,-5,4]"
   ]
  },
  {
   "cell_type": "code",
   "execution_count": 18,
   "metadata": {},
   "outputs": [],
   "source": [
    "def maxSubArray(nums):\n",
    "    for i in range(1, len(nums)):\n",
    "        nums[i] += nums[i-1] if nums[i-1] > 0 else 0\n",
    "    return max(nums)"
   ]
  },
  {
   "cell_type": "code",
   "execution_count": 19,
   "metadata": {},
   "outputs": [
    {
     "data": {
      "text/plain": [
       "6"
      ]
     },
     "execution_count": 19,
     "metadata": {},
     "output_type": "execute_result"
    }
   ],
   "source": [
    "maxSubArray(test)"
   ]
  },
  {
   "cell_type": "code",
   "execution_count": 21,
   "metadata": {},
   "outputs": [],
   "source": [
    "import sys\n",
    "\n",
    "#카데인 알고리즘\n",
    "def maxSubArray(nums):\n",
    "    best = -sys.maxsize\n",
    "    cur_sum =0\n",
    "    for num in nums:\n",
    "        #-2, 1, -3, 4, -1\n",
    "        cur_sum = max(num,num+cur_sum)\n",
    "        best = max(best, cur_sum)\n",
    "        \n",
    "    return best"
   ]
  },
  {
   "cell_type": "code",
   "execution_count": 23,
   "metadata": {
    "scrolled": false
   },
   "outputs": [
    {
     "name": "stdout",
     "output_type": "stream",
     "text": [
      "-2\n",
      "-2 c\n",
      "-2 b\n",
      "1\n",
      "1 c\n",
      "1 b\n",
      "-3\n",
      "-2 c\n",
      "1 b\n",
      "4\n",
      "4 c\n",
      "4 b\n",
      "-1\n",
      "3 c\n",
      "4 b\n",
      "2\n",
      "5 c\n",
      "5 b\n",
      "1\n",
      "6 c\n",
      "6 b\n",
      "-5\n",
      "1 c\n",
      "6 b\n",
      "4\n",
      "5 c\n",
      "6 b\n"
     ]
    },
    {
     "data": {
      "text/plain": [
       "6"
      ]
     },
     "execution_count": 23,
     "metadata": {},
     "output_type": "execute_result"
    }
   ],
   "source": [
    "maxSubArray(test)"
   ]
  },
  {
   "cell_type": "markdown",
   "metadata": {},
   "source": [
    "### 계단오르기\n",
    "- 당신은 계단을 오르고 있다. 정상에 도달하기 위해 n 계단을 올라야 한다. 매번 각각 1계단 또는 2 계단씩 오를 수 있다면 정상에 도달하기 위한 방법을 몇 가지 경로가 되는지 계산하라"
   ]
  },
  {
   "cell_type": "code",
   "execution_count": 33,
   "metadata": {},
   "outputs": [],
   "source": [
    "#피보나치랑 동일\n",
    "dp = defaultdict(int)\n",
    "def stair(N):\n",
    "    \n",
    "    dp[1] = 1\n",
    "    dp[2] = 2\n",
    "    \n",
    "    for i in range(3, N+1):\n",
    "        dp[i] = dp[i-1] +dp[i-2]\n",
    "    print(dp)    \n",
    "    return dp[N]\n",
    "    "
   ]
  },
  {
   "cell_type": "code",
   "execution_count": 35,
   "metadata": {},
   "outputs": [
    {
     "name": "stdout",
     "output_type": "stream",
     "text": [
      "defaultdict(<class 'int'>, {1: 1, 2: 2, 3: 3, 4: 5, 5: 8})\n"
     ]
    },
    {
     "data": {
      "text/plain": [
       "3"
      ]
     },
     "execution_count": 35,
     "metadata": {},
     "output_type": "execute_result"
    }
   ],
   "source": [
    "stair(3)"
   ]
  },
  {
   "cell_type": "code",
   "execution_count": null,
   "metadata": {},
   "outputs": [],
   "source": []
  }
 ],
 "metadata": {
  "kernelspec": {
   "display_name": "Python 3",
   "language": "python",
   "name": "python3"
  },
  "language_info": {
   "codemirror_mode": {
    "name": "ipython",
    "version": 3
   },
   "file_extension": ".py",
   "mimetype": "text/x-python",
   "name": "python",
   "nbconvert_exporter": "python",
   "pygments_lexer": "ipython3",
   "version": "3.7.4"
  }
 },
 "nbformat": 4,
 "nbformat_minor": 2
}
