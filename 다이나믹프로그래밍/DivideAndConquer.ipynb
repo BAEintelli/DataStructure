{
 "cells": [
  {
   "cell_type": "code",
   "execution_count": 1,
   "metadata": {},
   "outputs": [],
   "source": [
    "test = '2-1-1'\n",
    "#숫자와 연산자를 입력받아 가능 한 모든 조합의 결과를 출력하라"
   ]
  },
  {
   "cell_type": "code",
   "execution_count": 2,
   "metadata": {},
   "outputs": [
    {
     "data": {
      "text/plain": [
       "True"
      ]
     },
     "execution_count": 2,
     "metadata": {},
     "output_type": "execute_result"
    }
   ],
   "source": [
    "'3'.isdigit()"
   ]
  },
  {
   "cell_type": "code",
   "execution_count": 10,
   "metadata": {},
   "outputs": [],
   "source": [
    "def f(text):\n",
    "    result =[]\n",
    "    def compute(left, right, op):\n",
    "        tmp =[]\n",
    "        for l in left:\n",
    "            for r in right:\n",
    "                print(l, op,r)\n",
    "                tmp.append(eval(str(l)+op+str(r)))\n",
    "        return tmp\n",
    "                \n",
    "                \n",
    "    if text.isdigit():\n",
    "        return text\n",
    "    \n",
    "\n",
    "    for i, char in enumerate(text):\n",
    "        if char in '*-+':\n",
    "\n",
    "            left  = f(text[:i])\n",
    "            right = f(text[i+1:])\n",
    "            result.extend(compute(left, right, char))\n",
    "\n",
    "    return result"
   ]
  },
  {
   "cell_type": "code",
   "execution_count": 11,
   "metadata": {},
   "outputs": [
    {
     "name": "stdout",
     "output_type": "stream",
     "text": [
      "1 - 1\n",
      "2 - 0\n",
      "2 - 1\n",
      "1 - 1\n"
     ]
    },
    {
     "data": {
      "text/plain": [
       "[2, 0]"
      ]
     },
     "execution_count": 11,
     "metadata": {},
     "output_type": "execute_result"
    }
   ],
   "source": [
    "f(test)"
   ]
  },
  {
   "cell_type": "code",
   "execution_count": 12,
   "metadata": {},
   "outputs": [],
   "source": [
    "test='2*3-4*5'"
   ]
  },
  {
   "cell_type": "code",
   "execution_count": 13,
   "metadata": {},
   "outputs": [
    {
     "name": "stdout",
     "output_type": "stream",
     "text": [
      "4 * 5\n",
      "3 - 20\n",
      "3 - 4\n",
      "-1 * 5\n",
      "2 * -17\n",
      "2 * -5\n",
      "2 * 3\n",
      "4 * 5\n",
      "6 - 20\n",
      "3 - 4\n",
      "2 * -1\n",
      "2 * 3\n",
      "6 - 4\n",
      "-2 * 5\n",
      "2 * 5\n"
     ]
    },
    {
     "data": {
      "text/plain": [
       "[-34, -10, -14, -10, 10]"
      ]
     },
     "execution_count": 13,
     "metadata": {},
     "output_type": "execute_result"
    }
   ],
   "source": [
    "f(test)"
   ]
  },
  {
   "cell_type": "code",
   "execution_count": null,
   "metadata": {},
   "outputs": [],
   "source": []
  }
 ],
 "metadata": {
  "kernelspec": {
   "display_name": "Python 3",
   "language": "python",
   "name": "python3"
  },
  "language_info": {
   "codemirror_mode": {
    "name": "ipython",
    "version": 3
   },
   "file_extension": ".py",
   "mimetype": "text/x-python",
   "name": "python",
   "nbconvert_exporter": "python",
   "pygments_lexer": "ipython3",
   "version": "3.7.4"
  }
 },
 "nbformat": 4,
 "nbformat_minor": 2
}
