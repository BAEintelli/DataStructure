{
 "cells": [
  {
   "cell_type": "markdown",
   "metadata": {},
   "source": [
    "### 1. 섬의 개수"
   ]
  },
  {
   "cell_type": "code",
   "execution_count": 73,
   "metadata": {},
   "outputs": [],
   "source": [
    "test_map = [[1,1,1,1,0],\n",
    "[1,1,0,1,0],\n",
    "[1,1,0,0,0],\n",
    "[0,0,0,0,0]]"
   ]
  },
  {
   "cell_type": "code",
   "execution_count": 71,
   "metadata": {},
   "outputs": [],
   "source": [
    "def numIslands(test_map):\n",
    "    t = len(test_map)\n",
    "    l = len(test_map[0])\n",
    "    result = 0\n",
    "\n",
    "    def mydfs(i, j):\n",
    "        if i>=0 or j >=0 or i <= t  or j <= l:\n",
    "            if test_map[i][j] == 0 :\n",
    "                return\n",
    "            else:\n",
    "                test_map[i][j] = 0\n",
    "                mydfs(i+1, j)\n",
    "                mydfs(i-1, j)\n",
    "                mydfs(i, j-1)\n",
    "                mydfs(i, j+1)\n",
    "\n",
    "    for i in range(t):\n",
    "        for j in range(l):\n",
    "            if test_map[i][j] ==1:\n",
    "                mydfs(i, j)\n",
    "                result +=1 \n",
    "                \n",
    "    return result\n",
    "\n",
    "            \n",
    "numIslands(test_map)            \n",
    "              \n",
    "        "
   ]
  },
  {
   "cell_type": "markdown",
   "metadata": {},
   "source": [
    "### 2. 전화 번호 문자 조합\n"
   ]
  },
  {
   "cell_type": "code",
   "execution_count": 75,
   "metadata": {},
   "outputs": [],
   "source": [
    "dial_dict  = {'2' : ['a', 'b', 'c']\n",
    ",'3' : ['d', 'e', 'f']\n",
    ",'4' : ['g', 'h', 'i']\n",
    ",'5' : ['j', 'k', 'l']\n",
    ",'6' : ['m', 'n', 'o']\n",
    ",'7' : ['p','q', 'r', 's']   \n",
    ",'8' : ['t','u','v']\n",
    ",'9' : ['w', 'x', 'y', 'z']\n",
    ",'0' : ['+']  }"
   ]
  },
  {
   "cell_type": "code",
   "execution_count": 77,
   "metadata": {},
   "outputs": [],
   "source": [
    "test_input = '23'\n"
   ]
  },
  {
   "cell_type": "code",
   "execution_count": 81,
   "metadata": {},
   "outputs": [],
   "source": [
    "result = []\n",
    "def makeword(input_num, word,count):\n",
    "    if count  == len(input_num):\n",
    "        result.append(word)\n",
    "        return \n",
    "    for i  in dial_dict[input_num[count]]:\n",
    "        makeword(input_num, word+i, count+1)\n",
    "        \n",
    "makeword(test_input, '', 0)"
   ]
  },
  {
   "cell_type": "code",
   "execution_count": 82,
   "metadata": {},
   "outputs": [
    {
     "data": {
      "text/plain": [
       "['ad', 'ae', 'af', 'bd', 'be', 'bf', 'cd', 'ce', 'cf']"
      ]
     },
     "execution_count": 82,
     "metadata": {},
     "output_type": "execute_result"
    }
   ],
   "source": [
    "result"
   ]
  },
  {
   "cell_type": "markdown",
   "metadata": {},
   "source": [
    "### 3. 순열"
   ]
  },
  {
   "cell_type": "markdown",
   "metadata": {},
   "source": [
    "### 서로 정수를 입력받아 만들기\n"
   ]
  },
  {
   "cell_type": "code",
   "execution_count": 166,
   "metadata": {},
   "outputs": [],
   "source": [
    "test_input = [1,2,3,4]"
   ]
  },
  {
   "cell_type": "code",
   "execution_count": 167,
   "metadata": {},
   "outputs": [],
   "source": [
    "def permute(input_list):  \n",
    "    k = len(input_list)\n",
    "    result = []\n",
    "    def make_per(start_list, end_list):\n",
    "        if len(end_list) == k:\n",
    "            result.append(end_list)\n",
    "            return \n",
    "        for i in start_list:\n",
    "            tmp1 = start_list.copy()\n",
    "            tmp1.remove(i)\n",
    "            tmp2 = end_list.copy()\n",
    "            tmp2.append(i)\n",
    "            make_per(tmp1, tmp2)\n",
    "\n",
    "    make_per(input_list, [])\n",
    "    return result\n",
    "\n",
    "    "
   ]
  },
  {
   "cell_type": "code",
   "execution_count": 168,
   "metadata": {},
   "outputs": [
    {
     "data": {
      "text/plain": [
       "[[1, 2, 3, 4],\n",
       " [1, 2, 4, 3],\n",
       " [1, 3, 2, 4],\n",
       " [1, 3, 4, 2],\n",
       " [1, 4, 2, 3],\n",
       " [1, 4, 3, 2],\n",
       " [2, 1, 3, 4],\n",
       " [2, 1, 4, 3],\n",
       " [2, 3, 1, 4],\n",
       " [2, 3, 4, 1],\n",
       " [2, 4, 1, 3],\n",
       " [2, 4, 3, 1],\n",
       " [3, 1, 2, 4],\n",
       " [3, 1, 4, 2],\n",
       " [3, 2, 1, 4],\n",
       " [3, 2, 4, 1],\n",
       " [3, 4, 1, 2],\n",
       " [3, 4, 2, 1],\n",
       " [4, 1, 2, 3],\n",
       " [4, 1, 3, 2],\n",
       " [4, 2, 1, 3],\n",
       " [4, 2, 3, 1],\n",
       " [4, 3, 1, 2],\n",
       " [4, 3, 2, 1]]"
      ]
     },
     "execution_count": 168,
     "metadata": {},
     "output_type": "execute_result"
    }
   ],
   "source": [
    "permute(test_input)"
   ]
  },
  {
   "cell_type": "markdown",
   "metadata": {},
   "source": [
    "### 4. 조합"
   ]
  },
  {
   "cell_type": "markdown",
   "metadata": {},
   "source": [
    "- n을 입력받아 k개의 조합으로 리턴하라"
   ]
  },
  {
   "cell_type": "code",
   "execution_count": 164,
   "metadata": {},
   "outputs": [],
   "source": [
    "n = 4\n",
    "k = 3\n",
    "result = []\n",
    "def make_comb(prev_list, comb_list):\n",
    "    print(comb_list)\n",
    "    if len(comb_list) == k:\n",
    "        result.append(comb_list)\n",
    "        return\n",
    "    \n",
    "    new_list = prev_list[:1]\n",
    "    post_list = prev_list[1:]\n",
    "    for a in post_list:\n",
    "        make_comb(new_list, new_list+[a])\n",
    "    if len(post_list) >=k:\n",
    "        make_comb(post_list, [])\n",
    "        \n"
   ]
  },
  {
   "cell_type": "code",
   "execution_count": 169,
   "metadata": {},
   "outputs": [],
   "source": [
    "def combine(n, k):\n",
    "    results = []\n",
    "    \n",
    "    def dfs(elements, start, k):\n",
    "        if k ==0:\n",
    "            results.append(elements.copy())\n",
    "        \n",
    "        for i in range(start, n+1):\n",
    "            elements.append(i)\n",
    "            dfs(elements, i+1, k-1)\n",
    "            elements.pop()\n",
    "            \n",
    "    dfs([], 1, k)\n",
    "    return results"
   ]
  },
  {
   "cell_type": "code",
   "execution_count": 171,
   "metadata": {},
   "outputs": [
    {
     "data": {
      "text/plain": [
       "[[1, 2, 3], [1, 2, 4], [1, 3, 4], [2, 3, 4]]"
      ]
     },
     "execution_count": 171,
     "metadata": {},
     "output_type": "execute_result"
    }
   ],
   "source": [
    "combine(4, 3)"
   ]
  },
  {
   "cell_type": "markdown",
   "metadata": {},
   "source": [
    "### 다른풀이"
   ]
  },
  {
   "cell_type": "markdown",
   "metadata": {},
   "source": [
    "### 5. 조합의 합"
   ]
  },
  {
   "cell_type": "markdown",
   "metadata": {},
   "source": [
    "### 숫자 집합 candidates를 조합하여 합이 taget이 되는 원소를 나열하라. 각 원소는 중복으로 나열 가능하다."
   ]
  },
  {
   "cell_type": "code",
   "execution_count": 172,
   "metadata": {},
   "outputs": [],
   "source": [
    "candidates = [2,3,6,7]\n",
    "target = 7"
   ]
  },
  {
   "cell_type": "code",
   "execution_count": 178,
   "metadata": {},
   "outputs": [],
   "source": [
    "results = []\n",
    "def find_sum_comb(cur, candidates, target):\n",
    "    cur = sorted(cur)\n",
    "    if target == 0 and cur not in results :\n",
    "        \n",
    "        results.append(cur)\n",
    "        \n",
    "    for i in  candidates:\n",
    "        if target- i >= 0:\n",
    "            find_sum_comb(cur+[i], candidates, target-i)\n",
    "            \n",
    "            \n",
    "        \n",
    "    "
   ]
  },
  {
   "cell_type": "code",
   "execution_count": 179,
   "metadata": {},
   "outputs": [],
   "source": [
    "find_sum_comb([], candidates, target)"
   ]
  },
  {
   "cell_type": "code",
   "execution_count": 180,
   "metadata": {},
   "outputs": [
    {
     "data": {
      "text/plain": [
       "[[2, 2, 3], [7]]"
      ]
     },
     "execution_count": 180,
     "metadata": {},
     "output_type": "execute_result"
    }
   ],
   "source": [
    "\n",
    "results"
   ]
  },
  {
   "cell_type": "code",
   "execution_count": null,
   "metadata": {},
   "outputs": [],
   "source": []
  }
 ],
 "metadata": {
  "kernelspec": {
   "display_name": "Python 3",
   "language": "python",
   "name": "python3"
  },
  "language_info": {
   "codemirror_mode": {
    "name": "ipython",
    "version": 3
   },
   "file_extension": ".py",
   "mimetype": "text/x-python",
   "name": "python",
   "nbconvert_exporter": "python",
   "pygments_lexer": "ipython3",
   "version": "3.7.4"
  }
 },
 "nbformat": 4,
 "nbformat_minor": 2
}
