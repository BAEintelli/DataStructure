{
 "cells": [
  {
   "cell_type": "code",
   "execution_count": 17,
   "metadata": {},
   "outputs": [],
   "source": [
    "import collections"
   ]
  },
  {
   "cell_type": "code",
   "execution_count": 18,
   "metadata": {},
   "outputs": [],
   "source": [
    "def maxSlidingWindow(nums, k):\n",
    "    results = []\n",
    "    window = collections.deque()\n",
    "    current_max = float('-inf')\n",
    "    for i, v in enumerate(nums):\n",
    "        window.append(v)\n",
    "        if i < k -1 :\n",
    "            continue\n",
    "            \n",
    "        if current_max == float('-inf'):\n",
    "            current_max = max(window)\n",
    "        elif v > current_max:\n",
    "            current_max = v\n",
    "        \n",
    "        results.append(current_max)\n",
    "        \n",
    "        if current_max == window.popleft():\n",
    "            current_max = float('-inf')\n",
    "    return results"
   ]
  },
  {
   "cell_type": "code",
   "execution_count": null,
   "metadata": {},
   "outputs": [],
   "source": [
    "nums = [1,3,-1,-3,5]"
   ]
  }
 ],
 "metadata": {
  "kernelspec": {
   "display_name": "Python 3",
   "language": "python",
   "name": "python3"
  },
  "language_info": {
   "codemirror_mode": {
    "name": "ipython",
    "version": 3
   },
   "file_extension": ".py",
   "mimetype": "text/x-python",
   "name": "python",
   "nbconvert_exporter": "python",
   "pygments_lexer": "ipython3",
   "version": "3.7.4"
  }
 },
 "nbformat": 4,
 "nbformat_minor": 2
}
