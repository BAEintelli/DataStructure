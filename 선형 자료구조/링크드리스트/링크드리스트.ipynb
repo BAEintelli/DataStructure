{
 "cells": [
  {
   "cell_type": "markdown",
   "metadata": {},
   "source": [
    "### 문제1.\n",
    "- 연결리스트가 팰린드롬 구조인지 판별하라"
   ]
  },
  {
   "cell_type": "code",
   "execution_count": 1,
   "metadata": {},
   "outputs": [],
   "source": [
    "class ListNode:\n",
    "    def __init__(self, x):\n",
    "        self.val = x\n",
    "        self.next = None\n"
   ]
  },
  {
   "cell_type": "code",
   "execution_count": 7,
   "metadata": {},
   "outputs": [],
   "source": [
    "ls = ListNode(1)\n",
    "ls.next = ListNode(2)\n",
    "ls.next.next = ListNode(2)\n",
    "ls.next.next.next = ListNode(1)"
   ]
  },
  {
   "cell_type": "code",
   "execution_count": 10,
   "metadata": {},
   "outputs": [],
   "source": [
    "def palindrome(head):\n",
    "    q: List = []\n",
    "    \n",
    "    if not head:\n",
    "        return True\n",
    "    \n",
    "    node = head\n",
    "    \n",
    "    while node is not None:\n",
    "        q.append(node.val)\n",
    "        node = node.next\n",
    "        \n",
    "    while len(q)> 1:\n",
    "        if q.pop(0) != q.pop():\n",
    "            return False\n",
    "        \n",
    "    return True\n",
    "    \n",
    "    \n"
   ]
  },
  {
   "cell_type": "code",
   "execution_count": 11,
   "metadata": {},
   "outputs": [
    {
     "data": {
      "text/plain": [
       "True"
      ]
     },
     "execution_count": 11,
     "metadata": {},
     "output_type": "execute_result"
    }
   ],
   "source": [
    "palindrome(ls)"
   ]
  },
  {
   "cell_type": "code",
   "execution_count": 16,
   "metadata": {},
   "outputs": [],
   "source": [
    "# 리스트의 pop(0)을 사용할 경우 꺼내면서 한칸씩 시프팅 되며  시간복잡도가 O(n)이 발생하기 때문에 \n",
    "#파이썬의  Deque는 이중 연결 리스트 구조로 양쪽 방향 모두 추출하는데 O(1)에 실행된다\n",
    "import collections\n",
    "def palindrome(head):\n",
    "    q: Deque = collections.deque()\n",
    "    \n",
    "    if not head:\n",
    "        return True\n",
    "    \n",
    "    node = head\n",
    "    while node is not None:\n",
    "        q.append(node.val)\n",
    "        node = node.next\n",
    "        \n",
    "    while len(q) > 1:\n",
    "        if q.popleft() != q.pop():\n",
    "            return False\n",
    "        \n",
    "    return True\n",
    "            "
   ]
  },
  {
   "cell_type": "code",
   "execution_count": 17,
   "metadata": {},
   "outputs": [
    {
     "data": {
      "text/plain": [
       "True"
      ]
     },
     "execution_count": 17,
     "metadata": {},
     "output_type": "execute_result"
    }
   ],
   "source": [
    "palindrome(ls)"
   ]
  },
  {
   "cell_type": "code",
   "execution_count": 36,
   "metadata": {},
   "outputs": [],
   "source": [
    "### 다시봐야할 코드\n",
    "# 런너를 이용한 풀이\n",
    "def palidrome(head):\n",
    "    rev =None\n",
    "    slow = fast =head\n",
    "    while fast and fast.next:\n",
    "        fast= fast.next.next\n",
    "        rev, rev.next, slow = slow,rev, slow.next\n",
    "    \n",
    "    if fast:\n",
    "        slow = slow.next\n",
    "    while rev and rev.val == slow.val:\n",
    "        slow, rev = slow.next, rev.next\n",
    "    return not rev"
   ]
  },
  {
   "cell_type": "code",
   "execution_count": 37,
   "metadata": {},
   "outputs": [
    {
     "data": {
      "text/plain": [
       "True"
      ]
     },
     "execution_count": 37,
     "metadata": {},
     "output_type": "execute_result"
    }
   ],
   "source": [
    "palidrome(ls)"
   ]
  },
  {
   "cell_type": "markdown",
   "metadata": {},
   "source": [
    "### 문제2.\n",
    "- 정렬되어있는 두 연결 리스트를 합쳐라"
   ]
  },
  {
   "cell_type": "code",
   "execution_count": 25,
   "metadata": {},
   "outputs": [],
   "source": [
    "#test 1->2->4, 1->3->4\n",
    "ls1 = ListNode(1)\n",
    "ls1.next = ListNode(2)\n",
    "ls1.next.next = ListNode(4)\n",
    "\n",
    "ls2 = ListNode(1)\n",
    "ls2.next = ListNode(3)\n",
    "ls2.next.next = ListNode(4)\n",
    "\n",
    "#output 1->1->2->3->4->4"
   ]
  },
  {
   "cell_type": "code",
   "execution_count": 30,
   "metadata": {},
   "outputs": [],
   "source": [
    "def mergetwolist(l1, l2):\n",
    "    if (not l1) or (l2 and l1.val > l2.val):\n",
    "        l1, l2 = l2, l1\n",
    "        \n",
    "    if l1:\n",
    "        l1.next = mergetwolist(l1.next, l2)\n",
    "        \n",
    "    return l1\n",
    "    "
   ]
  },
  {
   "cell_type": "code",
   "execution_count": 31,
   "metadata": {
    "scrolled": true
   },
   "outputs": [],
   "source": [
    "k = mergetwolist(ls1, ls2)"
   ]
  },
  {
   "cell_type": "code",
   "execution_count": 35,
   "metadata": {},
   "outputs": [
    {
     "data": {
      "text/plain": [
       "(1, 2)"
      ]
     },
     "execution_count": 35,
     "metadata": {},
     "output_type": "execute_result"
    }
   ],
   "source": [
    "k.next.val, k.next.next.val\n"
   ]
  },
  {
   "cell_type": "markdown",
   "metadata": {},
   "source": [
    "### 문제3. 역순 연결리스트\n",
    "- 연결 리스트를 뒤집어라"
   ]
  },
  {
   "cell_type": "code",
   "execution_count": 38,
   "metadata": {},
   "outputs": [],
   "source": [
    "# test\n",
    "#1->2->3->4->5->NULL\n",
    "#5->4->3->2->1->NULL\n",
    "\n",
    "ls = ListNode(1)\n",
    "ls.next = ListNode(2)\n",
    "ls.next.next = ListNode(3)\n",
    "ls.next.next.next = ListNode(4)\n"
   ]
  },
  {
   "cell_type": "code",
   "execution_count": 39,
   "metadata": {},
   "outputs": [],
   "source": [
    "# 재귀 구조로 뒤집기\n",
    "def reverselist(head):\n",
    "    \n",
    "    def reverse(node, prev=None):\n",
    "        if not node:\n",
    "            return prev\n",
    "        next, node.next =  node.next, prev\n",
    "        return reverse(next, node)\n",
    "    \n",
    "    return reverse(head)"
   ]
  },
  {
   "cell_type": "code",
   "execution_count": 40,
   "metadata": {},
   "outputs": [
    {
     "data": {
      "text/plain": [
       "<__main__.ListNode at 0x12449ad8148>"
      ]
     },
     "execution_count": 40,
     "metadata": {},
     "output_type": "execute_result"
    }
   ],
   "source": [
    "reverselist(ls)"
   ]
  },
  {
   "cell_type": "markdown",
   "metadata": {},
   "source": [
    "### 문제 4. 두 수의 덧셈\n",
    "- 역순으로 저장된 연결 리스트의 숫자를 더하라.\n",
    "(2 -> 4 -> 3) + (5 -> 6 -> 4)"
   ]
  },
  {
   "cell_type": "code",
   "execution_count": 2,
   "metadata": {},
   "outputs": [],
   "source": [
    "ls1 = ListNode(2)\n",
    "ls1.next = ListNode(4)\n",
    "ls1.next.next = ListNode(3)\n",
    "\n",
    "ls2  = ListNode(5)\n",
    "ls2.next = ListNode(6)\n",
    "ls2.next.next = ListNode(4)"
   ]
  },
  {
   "cell_type": "code",
   "execution_count": 4,
   "metadata": {},
   "outputs": [
    {
     "data": {
      "text/plain": [
       "4"
      ]
     },
     "execution_count": 4,
     "metadata": {},
     "output_type": "execute_result"
    }
   ],
   "source": [
    "ls1.next.val"
   ]
  },
  {
   "cell_type": "code",
   "execution_count": 5,
   "metadata": {},
   "outputs": [],
   "source": [
    "def tolist(node):\n",
    "    ls = []\n",
    "    while node:\n",
    "        ls.append(node.val)\n",
    "        node = node.next\n",
    "        \n",
    "    return ls"
   ]
  },
  {
   "cell_type": "code",
   "execution_count": 6,
   "metadata": {},
   "outputs": [
    {
     "data": {
      "text/plain": [
       "[2, 4, 3]"
      ]
     },
     "execution_count": 6,
     "metadata": {},
     "output_type": "execute_result"
    }
   ],
   "source": [
    "tolist(ls1)"
   ]
  },
  {
   "cell_type": "code",
   "execution_count": 7,
   "metadata": {},
   "outputs": [],
   "source": [
    "def tolinkedlist(ls):\n",
    "    prev = None\n",
    "    for i in ls:\n",
    "        node = ListNode(i)\n",
    "        node.next = prev\n",
    "        prev = node\n",
    "        \n",
    "    return node"
   ]
  },
  {
   "cell_type": "code",
   "execution_count": 10,
   "metadata": {},
   "outputs": [
    {
     "data": {
      "text/plain": [
       "[3, 4, 2]"
      ]
     },
     "execution_count": 10,
     "metadata": {},
     "output_type": "execute_result"
    }
   ],
   "source": []
  },
  {
   "cell_type": "code",
   "execution_count": null,
   "metadata": {},
   "outputs": [],
   "source": []
  }
 ],
 "metadata": {
  "kernelspec": {
   "display_name": "Python 3",
   "language": "python",
   "name": "python3"
  },
  "language_info": {
   "codemirror_mode": {
    "name": "ipython",
    "version": 3
   },
   "file_extension": ".py",
   "mimetype": "text/x-python",
   "name": "python",
   "nbconvert_exporter": "python",
   "pygments_lexer": "ipython3",
   "version": "3.7.4"
  }
 },
 "nbformat": 4,
 "nbformat_minor": 2
}
