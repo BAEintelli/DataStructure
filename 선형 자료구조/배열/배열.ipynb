{
 "cells": [
  {
   "cell_type": "markdown",
   "metadata": {},
   "source": [
    "### 문제1.\n",
    "- 덧셈하여 타겟을 만ㄷ르 수 있는 배열의 두 숫자 인덱스르 리턴하라"
   ]
  },
  {
   "cell_type": "code",
   "execution_count": 29,
   "metadata": {},
   "outputs": [],
   "source": [
    "test = [2, 7, 11, 15]"
   ]
  },
  {
   "cell_type": "markdown",
   "metadata": {},
   "source": [
    "최초풀이"
   ]
  },
  {
   "cell_type": "code",
   "execution_count": 19,
   "metadata": {},
   "outputs": [],
   "source": [
    "# 모든조합의 수를 브루트 포스로 // 시간 복잡도 n2\n",
    "def find_target(target_num, nums):\n",
    "    ls  =[]\n",
    "    for  i in range(len(nums)):\n",
    "        target = nums.pop()\n",
    "\n",
    "        comb_sum = [s+target for s in nums]\n",
    "\n",
    "        ls.extend(comb_sum)\n",
    "    return target_num in ls"
   ]
  },
  {
   "cell_type": "code",
   "execution_count": 22,
   "metadata": {},
   "outputs": [
    {
     "data": {
      "text/plain": [
       "True"
      ]
     },
     "execution_count": 22,
     "metadata": {},
     "output_type": "execute_result"
    }
   ],
   "source": [
    "find_target(9, test)"
   ]
  },
  {
   "cell_type": "code",
   "execution_count": 33,
   "metadata": {},
   "outputs": [],
   "source": [
    "# 첫번째 값에서 빼서 배열안에 있는지 체크 // 시간 복잡도 n2\n",
    "def find_target(target_num, nums):\n",
    "    for i, num in enumerate(nums):\n",
    "        check_num = target_num - num\n",
    "        \n",
    "        if check_num in nums[i+1:]:\n",
    "            return nums.index(num), nums[i+1:].index(check_num)+i+1"
   ]
  },
  {
   "cell_type": "code",
   "execution_count": 34,
   "metadata": {},
   "outputs": [
    {
     "data": {
      "text/plain": [
       "(0, 1)"
      ]
     },
     "execution_count": 34,
     "metadata": {},
     "output_type": "execute_result"
    }
   ],
   "source": [
    "find_target(9, test)"
   ]
  },
  {
   "cell_type": "code",
   "execution_count": null,
   "metadata": {},
   "outputs": [],
   "source": [
    "# 딕셔너리도 인덱스 \n",
    "def find_target(target_num, nums):\n",
    "    num_map = dict()\n",
    "    \n",
    "    for in nums:"
   ]
  },
  {
   "cell_type": "markdown",
   "metadata": {},
   "source": [
    "### 문제2.\n",
    "- 높이를 입력받아 비 온 후 얼마나 많ㅇ느 물이 쌓일 수 있는지 계산하라."
   ]
  },
  {
   "cell_type": "code",
   "execution_count": 14,
   "metadata": {},
   "outputs": [],
   "source": [
    "test = [0, 1, 0, 2, 1, 0, 1, 3, 2, 1, 2, 1]"
   ]
  },
  {
   "cell_type": "code",
   "execution_count": 15,
   "metadata": {},
   "outputs": [],
   "source": [
    "#투포인터를 활용한다 \n",
    "# 첫번째 포인터가 두번째를 포인털들 따라가면서 체크\n",
    "def water_amount(structers):\n",
    "    i1 = 0\n",
    "    i2 = 1\n",
    "    result = 0\n",
    "    while i1 !=len(structers)-1:\n",
    "        value =  structers[i1]\n",
    "        while (structers[i2] < value):\n",
    "            i2 += 1\n",
    "            if i2 == len(structers):\n",
    "                i2 = i1 +1 if  i1 < len(structers)-1 else i1 \n",
    "                break \n",
    "              \n",
    "        while i1 != i2:\n",
    "            if value > structers[i1]:\n",
    "                result += (value- structers[i1])\n",
    "            i1+=1\n",
    "        i2+=1  \n",
    "                \n",
    "    return result          \n",
    "            \n",
    "        \n",
    "        \n",
    "        "
   ]
  },
  {
   "cell_type": "code",
   "execution_count": 16,
   "metadata": {},
   "outputs": [
    {
     "data": {
      "text/plain": [
       "6"
      ]
     },
     "execution_count": 16,
     "metadata": {},
     "output_type": "execute_result"
    }
   ],
   "source": [
    "water_amount(test)"
   ]
  },
  {
   "cell_type": "code",
   "execution_count": 22,
   "metadata": {},
   "outputs": [],
   "source": [
    "# 나의 풀이와 매우 비슷하나 코드가 훨씬 간결하여 적어둠\n",
    "# 스택 쌓기\n",
    "def water_amount(structers):\n",
    "    stack = []\n",
    "    volume = 0\n",
    "    \n",
    "    for i in range(len(structers)):\n",
    "        \n",
    "        while stack and structers[i] > structers[stack[-1]]:\n",
    "            top = stack.pop()\n",
    "            \n",
    "            if not len(stack):\n",
    "                 break\n",
    "            \n",
    "            distance = i - stack[-1] - 1\n",
    "            waters = min(structers[i], structers[stack[-1]]) - structers[top]\n",
    "            \n",
    "            volume += distance * waters\n",
    "                   \n",
    "        stack.append(i)\n",
    "    return volume\n",
    "                \n",
    "            "
   ]
  },
  {
   "cell_type": "code",
   "execution_count": 23,
   "metadata": {},
   "outputs": [
    {
     "data": {
      "text/plain": [
       "6"
      ]
     },
     "execution_count": 23,
     "metadata": {},
     "output_type": "execute_result"
    }
   ],
   "source": [
    "water_amount(test)"
   ]
  },
  {
   "cell_type": "markdown",
   "metadata": {},
   "source": [
    "### 문제3. 세수의 합 \n",
    "- 배열을 입력받아 합으로 0을 만들 수 있는 3개의 엘리먼트를 출력하라."
   ]
  },
  {
   "cell_type": "code",
   "execution_count": 28,
   "metadata": {},
   "outputs": [],
   "source": [
    "nums = [-1, 0, 1, 2, -1, -4]\n"
   ]
  },
  {
   "cell_type": "code",
   "execution_count": null,
   "metadata": {},
   "outputs": [],
   "source": [
    "### 브루트 포스로 for 문 세개면 모든 조합으로 만들 수 있다. 하지만 풀이가 시간 복잡도가  n3이기 때문에 생략"
   ]
  },
  {
   "cell_type": "code",
   "execution_count": null,
   "metadata": {},
   "outputs": [],
   "source": []
  }
 ],
 "metadata": {
  "kernelspec": {
   "display_name": "Python 3",
   "language": "python",
   "name": "python3"
  },
  "language_info": {
   "codemirror_mode": {
    "name": "ipython",
    "version": 3
   },
   "file_extension": ".py",
   "mimetype": "text/x-python",
   "name": "python",
   "nbconvert_exporter": "python",
   "pygments_lexer": "ipython3",
   "version": "3.7.4"
  }
 },
 "nbformat": 4,
 "nbformat_minor": 2
}
