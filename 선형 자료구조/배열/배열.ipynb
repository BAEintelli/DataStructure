{
 "cells": [
  {
   "cell_type": "markdown",
   "metadata": {},
   "source": [
    "### 문제1.\n",
    "- 덧셈하여 타겟을 만ㄷ르 수 있는 배열의 두 숫자 인덱스르 리턴하라"
   ]
  },
  {
   "cell_type": "code",
   "execution_count": 29,
   "metadata": {},
   "outputs": [],
   "source": [
    "test = [2, 7, 11, 15]"
   ]
  },
  {
   "cell_type": "markdown",
   "metadata": {},
   "source": [
    "최초풀이"
   ]
  },
  {
   "cell_type": "code",
   "execution_count": 19,
   "metadata": {},
   "outputs": [],
   "source": [
    "# 모든조합의 수를 브루트 포스로 // 시간 복잡도 n2\n",
    "def find_target(target_num, nums):\n",
    "    ls  =[]\n",
    "    for  i in range(len(nums)):\n",
    "        target = nums.pop()\n",
    "\n",
    "        comb_sum = [s+target for s in nums]\n",
    "\n",
    "        ls.extend(comb_sum)\n",
    "    return target_num in ls"
   ]
  },
  {
   "cell_type": "code",
   "execution_count": 22,
   "metadata": {},
   "outputs": [
    {
     "data": {
      "text/plain": [
       "True"
      ]
     },
     "execution_count": 22,
     "metadata": {},
     "output_type": "execute_result"
    }
   ],
   "source": [
    "find_target(9, test)"
   ]
  },
  {
   "cell_type": "code",
   "execution_count": 33,
   "metadata": {},
   "outputs": [],
   "source": [
    "# 첫번째 값에서 빼서 배열안에 있는지 체크 // 시간 복잡도 n2\n",
    "def find_target(target_num, nums):\n",
    "    for i, num in enumerate(nums):\n",
    "        check_num = target_num - num\n",
    "        \n",
    "        if check_num in nums[i+1:]:\n",
    "            return nums.index(num), nums[i+1:].index(check_num)+i+1"
   ]
  },
  {
   "cell_type": "code",
   "execution_count": 34,
   "metadata": {},
   "outputs": [
    {
     "data": {
      "text/plain": [
       "(0, 1)"
      ]
     },
     "execution_count": 34,
     "metadata": {},
     "output_type": "execute_result"
    }
   ],
   "source": [
    "find_target(9, test)"
   ]
  },
  {
   "cell_type": "code",
   "execution_count": null,
   "metadata": {},
   "outputs": [],
   "source": [
    "# 딕셔너리도 인덱스 \n",
    "def find_target(target_num, nums):\n",
    "    num_map = dict()\n",
    "    \n",
    "    for in nums:"
   ]
  },
  {
   "cell_type": "markdown",
   "metadata": {},
   "source": [
    "### 문제2.\n",
    "- 높이를 입력받아 비 온 후 얼마나 많ㅇ느 물이 쌓일 수 있는지 계산하라."
   ]
  },
  {
   "cell_type": "code",
   "execution_count": 63,
   "metadata": {},
   "outputs": [],
   "source": [
    "test = [0, 1, 0, 2, 1, 0, 1, 3, 2, 1, 2, 1]"
   ]
  },
  {
   "cell_type": "code",
   "execution_count": 15,
   "metadata": {},
   "outputs": [],
   "source": [
    "#투포인터를 활용한다 \n",
    "# 첫번째 포인터가 두번째를 포인털들 따라가면서 체크\n",
    "def water_amount(structers):\n",
    "    i1 = 0\n",
    "    i2 = 1\n",
    "    result = 0\n",
    "    while i1 !=len(structers)-1:\n",
    "        value =  structers[i1]\n",
    "        while (structers[i2] < value):\n",
    "            i2 += 1\n",
    "            if i2 == len(structers):\n",
    "                i2 = i1 +1 if  i1 < len(structers)-1 else i1 \n",
    "                break \n",
    "              \n",
    "        while i1 != i2:\n",
    "            if value > structers[i1]:\n",
    "                result += (value- structers[i1])\n",
    "            i1+=1\n",
    "        i2+=1  \n",
    "                \n",
    "    return result          \n",
    "            \n",
    "        \n",
    "        \n",
    "        "
   ]
  },
  {
   "cell_type": "code",
   "execution_count": 16,
   "metadata": {},
   "outputs": [
    {
     "data": {
      "text/plain": [
       "6"
      ]
     },
     "execution_count": 16,
     "metadata": {},
     "output_type": "execute_result"
    }
   ],
   "source": [
    "water_amount(test)"
   ]
  },
  {
   "cell_type": "code",
   "execution_count": 62,
   "metadata": {},
   "outputs": [],
   "source": [
    "def trap( height):\n",
    "    if not height:\n",
    "        return 0\n",
    "\n",
    "    volume = 0\n",
    "    left, right = 0, len(height) - 1\n",
    "    left_max, right_max = height[left], height[right]\n",
    "\n",
    "    while left < right:\n",
    "        left_max, right_max = max(height[left], left_max), max(height[right], right_max)\n",
    "        # 더 높은 쪽을 향해 투 포인터 이동\n",
    "        if left_max <= right_max:\n",
    "            volume += left_max - height[left]\n",
    "            left += 1\n",
    "        else:\n",
    "            volume += right_max - height[right]\n",
    "            right -= 1\n",
    "    return volume"
   ]
  },
  {
   "cell_type": "code",
   "execution_count": 64,
   "metadata": {},
   "outputs": [
    {
     "data": {
      "text/plain": [
       "6"
      ]
     },
     "execution_count": 64,
     "metadata": {},
     "output_type": "execute_result"
    }
   ],
   "source": [
    "trap(test)"
   ]
  },
  {
   "cell_type": "code",
   "execution_count": 22,
   "metadata": {},
   "outputs": [],
   "source": [
    "# 나의 풀이와 매우 비슷하나 코드가 훨씬 간결하여 적어둠\n",
    "# 스택 쌓기\n",
    "def water_amount(structers):\n",
    "    stack = []\n",
    "    volume = 0\n",
    "    \n",
    "    for i in range(len(structers)):\n",
    "        \n",
    "        while stack and structers[i] > structers[stack[-1]]:\n",
    "            top = stack.pop()\n",
    "            \n",
    "            if not len(stack):\n",
    "                 break\n",
    "            \n",
    "            distance = i - stack[-1] - 1\n",
    "            waters = min(structers[i], structers[stack[-1]]) - structers[top]\n",
    "            \n",
    "            volume += distance * waters\n",
    "                   \n",
    "        stack.append(i)\n",
    "    return volume\n",
    "                \n",
    "            "
   ]
  },
  {
   "cell_type": "code",
   "execution_count": 23,
   "metadata": {},
   "outputs": [
    {
     "data": {
      "text/plain": [
       "6"
      ]
     },
     "execution_count": 23,
     "metadata": {},
     "output_type": "execute_result"
    }
   ],
   "source": [
    "water_amount(test)"
   ]
  },
  {
   "cell_type": "markdown",
   "metadata": {},
   "source": [
    "### 문제3. 세수의 합 \n",
    "- 배열을 입력받아 합으로 0을 만들 수 있는 3개의 엘리먼트를 출력하라."
   ]
  },
  {
   "cell_type": "code",
   "execution_count": 31,
   "metadata": {},
   "outputs": [],
   "source": [
    "nums = [4, -1, 0, 1, 2, -1, -4]\n"
   ]
  },
  {
   "cell_type": "code",
   "execution_count": null,
   "metadata": {},
   "outputs": [],
   "source": [
    "### 브루트 포스로 for 문 세개면 모든 조합으로 만들 수 있다. 하지만 풀이가 시간 복잡도가  n3이기 때문에 생략"
   ]
  },
  {
   "cell_type": "code",
   "execution_count": 39,
   "metadata": {},
   "outputs": [],
   "source": [
    "def threeSum(nums):\n",
    "    results = []\n",
    "    nums.sort()\n",
    "\n",
    "    for i in range(len(nums) - 2):\n",
    "        # 중복된 값 건너뛰기\n",
    "        if i > 0 and nums[i] == nums[i - 1]:\n",
    "            continue\n",
    "\n",
    "        # 간격을 좁혀가며 합 `sum` 계산\n",
    "        left, right = i + 1, len(nums) - 1\n",
    "        while left < right:\n",
    "            sum = nums[i] + nums[left] + nums[right]\n",
    "            if sum < 0:\n",
    "                left += 1\n",
    "            elif sum > 0:\n",
    "                right -= 1\n",
    "            else:\n",
    "                # `sum = 0`인 경우이므로 정답 및 스킵 처리\n",
    "                results.append([nums[i], nums[left], nums[right]])\n",
    "\n",
    "                while left < right and nums[left] == nums[left + 1]:\n",
    "                    left += 1\n",
    "                while left < right and nums[right] == nums[right - 1]:\n",
    "                    right -= 1\n",
    "                left += 1\n",
    "                right -= 1\n",
    "\n",
    "    return results"
   ]
  },
  {
   "cell_type": "markdown",
   "metadata": {},
   "source": [
    "### 문제4.  \n",
    "- n개의 페어를 이용한 min(a,b)의 합으로 만들수 있는 가장 큰 수를 출력하라"
   ]
  },
  {
   "cell_type": "code",
   "execution_count": 41,
   "metadata": {},
   "outputs": [],
   "source": [
    "test = [1,2,3,4]"
   ]
  },
  {
   "cell_type": "code",
   "execution_count": 44,
   "metadata": {},
   "outputs": [],
   "source": [
    "def arypair(nums):\n",
    "    result = 0\n",
    "    nums.sort(reverse=True)\n",
    "    for i, n in enumerate(nums):\n",
    "        if i % 2 ==0 :\n",
    "            result +=n\n",
    "\n",
    "    return result\n"
   ]
  },
  {
   "cell_type": "code",
   "execution_count": 45,
   "metadata": {},
   "outputs": [
    {
     "data": {
      "text/plain": [
       "6"
      ]
     },
     "execution_count": 45,
     "metadata": {},
     "output_type": "execute_result"
    }
   ],
   "source": [
    "arypair(test)"
   ]
  },
  {
   "cell_type": "markdown",
   "metadata": {},
   "source": [
    "### 문제5. \n",
    "- 배열을 입력받아 output[i]가 자신을 제외한 나머지 모든 요소의 곱셈 결과가 되도록 출력하라.\n",
    "\n",
    "* 제약사항 : 나눗셈을 사용하지 않고 O(n)에 풀이하라"
   ]
  },
  {
   "cell_type": "code",
   "execution_count": null,
   "metadata": {},
   "outputs": [],
   "source": [
    "### 왼쪽으로 시작에서 shift 된채로 한번 ,오른 시작에서 shift 해서 서로곱하기"
   ]
  },
  {
   "cell_type": "code",
   "execution_count": 59,
   "metadata": {},
   "outputs": [],
   "source": [
    "test = [1,2,3,4]"
   ]
  },
  {
   "cell_type": "code",
   "execution_count": 60,
   "metadata": {},
   "outputs": [],
   "source": [
    "def productexceptself(nums):\n",
    "\n",
    "    p =1\n",
    "    out = []\n",
    "\n",
    "    for i in range(0, len(nums)):\n",
    "        out.append(p)\n",
    "        p = p*nums[i]\n",
    "    p =1 \n",
    "    for i in range(len(nums)-1, -1, -1 ):\n",
    "        out[i] = out[i]*p\n",
    "        p = p*nums[i]\n",
    "        \n",
    "    return out\n",
    "        "
   ]
  },
  {
   "cell_type": "code",
   "execution_count": 61,
   "metadata": {},
   "outputs": [
    {
     "data": {
      "text/plain": [
       "[24, 12, 8, 6]"
      ]
     },
     "execution_count": 61,
     "metadata": {},
     "output_type": "execute_result"
    }
   ],
   "source": [
    "productexceptself(test)"
   ]
  },
  {
   "cell_type": "markdown",
   "metadata": {},
   "source": [
    "### 문제 6.\n",
    "- 한 번의 거래로 낼 수 있는 최대 이익을 산출하라."
   ]
  },
  {
   "cell_type": "code",
   "execution_count": 48,
   "metadata": {},
   "outputs": [],
   "source": [
    "test = [7, 1, 5, 3, 6, 4]"
   ]
  },
  {
   "cell_type": "code",
   "execution_count": 54,
   "metadata": {},
   "outputs": [],
   "source": [
    "import sys\n",
    "def maxprofit(nums):\n",
    "    result = 0\n",
    "    minmum_value = sys.maxsize\n",
    "    for i in nums:\n",
    "        if i < minmum_value:\n",
    "            minmum_value = i\n",
    "            continue\n",
    "        result = max(result,i-minmum_value )\n",
    "    return result"
   ]
  },
  {
   "cell_type": "code",
   "execution_count": 55,
   "metadata": {},
   "outputs": [
    {
     "data": {
      "text/plain": [
       "5"
      ]
     },
     "execution_count": 55,
     "metadata": {},
     "output_type": "execute_result"
    }
   ],
   "source": [
    "maxprofit(test)"
   ]
  },
  {
   "cell_type": "code",
   "execution_count": null,
   "metadata": {},
   "outputs": [],
   "source": []
  }
 ],
 "metadata": {
  "kernelspec": {
   "display_name": "Python 3",
   "language": "python",
   "name": "python3"
  },
  "language_info": {
   "codemirror_mode": {
    "name": "ipython",
    "version": 3
   },
   "file_extension": ".py",
   "mimetype": "text/x-python",
   "name": "python",
   "nbconvert_exporter": "python",
   "pygments_lexer": "ipython3",
   "version": "3.7.4"
  }
 },
 "nbformat": 4,
 "nbformat_minor": 2
}
