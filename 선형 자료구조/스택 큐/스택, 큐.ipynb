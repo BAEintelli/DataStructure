{
 "cells": [
  {
   "cell_type": "markdown",
   "metadata": {},
   "source": [
    "### 문제1. 유효한 괄호\n",
    "- 괄호로 된 입력값이 올바른지 판별하라.\n",
    "\n",
    "- 입력 : ()[]{}\n",
    "\n",
    "- 출력 : true"
   ]
  },
  {
   "cell_type": "code",
   "execution_count": 2,
   "metadata": {},
   "outputs": [],
   "source": [
    "def isvalid(s):    \n",
    "    stack = []\n",
    "    table = {')':'(',']':'[', '}':'{'}\n",
    "\n",
    "    for i in s:\n",
    "\n",
    "        if i not in table:\n",
    "            stack.append(i)\n",
    "        elif not stack or table[i] != stack.pop():\n",
    "            return False\n",
    "\n",
    "\n",
    "    return len(stack) == 0\n"
   ]
  },
  {
   "cell_type": "code",
   "execution_count": 4,
   "metadata": {},
   "outputs": [],
   "source": [
    "s= '(){}[]'"
   ]
  },
  {
   "cell_type": "code",
   "execution_count": 5,
   "metadata": {},
   "outputs": [
    {
     "data": {
      "text/plain": [
       "True"
      ]
     },
     "execution_count": 5,
     "metadata": {},
     "output_type": "execute_result"
    }
   ],
   "source": [
    "isvalid(s)"
   ]
  },
  {
   "cell_type": "markdown",
   "metadata": {},
   "source": [
    "### 문제 2. 중복문자 제거\n",
    "\n",
    "- 중복된 문자를 제외하고 사전식 순서로 나열하라.\n",
    "\n",
    "- 입력 :'bcabc' 출력 : 'abc'\n",
    "\n",
    "- 입력 : 'cbacdcbc' 출력 : 'acdb'"
   ]
  },
  {
   "cell_type": "code",
   "execution_count": 16,
   "metadata": {},
   "outputs": [
    {
     "data": {
      "text/plain": [
       "True"
      ]
     },
     "execution_count": 16,
     "metadata": {},
     "output_type": "execute_result"
    }
   ],
   "source": [
    "'a' < 'acb'"
   ]
  },
  {
   "cell_type": "code",
   "execution_count": 28,
   "metadata": {},
   "outputs": [],
   "source": [
    "def reduceduplicates(s):\n",
    "    ls =[]\n",
    "    for i , char in enumerate(s):\n",
    "        print(char, s[i+1:])\n",
    "        if (char in s[i+1:]) and (char < s[i+1:]):\n",
    "            ls.append(char)\n",
    "        elif char not in s[i+1:]:\n",
    "            ls.append(char)\n",
    "            \n",
    "\n",
    "    return \"\".join(ls)"
   ]
  },
  {
   "cell_type": "code",
   "execution_count": 29,
   "metadata": {},
   "outputs": [
    {
     "name": "stdout",
     "output_type": "stream",
     "text": [
      "b cabc\n",
      "c abc\n",
      "a bc\n",
      "b c\n",
      "c \n"
     ]
    },
    {
     "data": {
      "text/plain": [
       "'babc'"
      ]
     },
     "execution_count": 29,
     "metadata": {},
     "output_type": "execute_result"
    }
   ],
   "source": [
    "reduceduplicates('bcabc')"
   ]
  },
  {
   "cell_type": "code",
   "execution_count": 25,
   "metadata": {},
   "outputs": [
    {
     "data": {
      "text/plain": [
       "True"
      ]
     },
     "execution_count": 25,
     "metadata": {},
     "output_type": "execute_result"
    }
   ],
   "source": [
    "'a' < 'bc'   "
   ]
  },
  {
   "cell_type": "code",
   "execution_count": null,
   "metadata": {},
   "outputs": [],
   "source": []
  }
 ],
 "metadata": {
  "kernelspec": {
   "display_name": "Python 3",
   "language": "python",
   "name": "python3"
  },
  "language_info": {
   "codemirror_mode": {
    "name": "ipython",
    "version": 3
   },
   "file_extension": ".py",
   "mimetype": "text/x-python",
   "name": "python",
   "nbconvert_exporter": "python",
   "pygments_lexer": "ipython3",
   "version": "3.7.4"
  }
 },
 "nbformat": 4,
 "nbformat_minor": 2
}
